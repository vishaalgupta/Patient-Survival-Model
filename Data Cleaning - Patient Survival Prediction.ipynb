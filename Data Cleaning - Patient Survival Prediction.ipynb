{
 "cells": [
  {
   "cell_type": "code",
   "execution_count": 4,
   "id": "4901f052",
   "metadata": {},
   "outputs": [],
   "source": [
    "import pandas as pd\n",
    "survival_df = pd.read_csv(\"../Patient-Survival-Model/Resources/Patient survival dataset.csv\")"
   ]
  },
  {
   "cell_type": "code",
   "execution_count": 2,
   "id": "e16c114d",
   "metadata": {},
   "outputs": [
    {
     "data": {
      "text/plain": [
       "Index(['encounter_id', 'patient_id', 'hospital_id', 'age', 'bmi',\n",
       "       'elective_surgery', 'ethnicity', 'gender', 'height', 'icu_admit_source',\n",
       "       'icu_id', 'icu_stay_type', 'icu_type', 'pre_icu_los_days', 'weight',\n",
       "       'apache_2_diagnosis', 'apache_3j_diagnosis', 'apache_post_operative',\n",
       "       'arf_apache', 'gcs_eyes_apache', 'gcs_motor_apache',\n",
       "       'gcs_unable_apache', 'gcs_verbal_apache', 'heart_rate_apache',\n",
       "       'intubated_apache', 'map_apache', 'resprate_apache', 'temp_apache',\n",
       "       'ventilated_apache', 'd1_diasbp_max', 'd1_diasbp_min',\n",
       "       'd1_diasbp_noninvasive_max', 'd1_diasbp_noninvasive_min',\n",
       "       'd1_heartrate_max', 'd1_heartrate_min', 'd1_mbp_max', 'd1_mbp_min',\n",
       "       'd1_mbp_noninvasive_max', 'd1_mbp_noninvasive_min', 'd1_resprate_max',\n",
       "       'd1_resprate_min', 'd1_spo2_max', 'd1_spo2_min', 'd1_sysbp_max',\n",
       "       'd1_sysbp_min', 'd1_sysbp_noninvasive_max', 'd1_sysbp_noninvasive_min',\n",
       "       'd1_temp_max', 'd1_temp_min', 'h1_diasbp_max', 'h1_diasbp_min',\n",
       "       'h1_diasbp_noninvasive_max', 'h1_diasbp_noninvasive_min',\n",
       "       'h1_heartrate_max', 'h1_heartrate_min', 'h1_mbp_max', 'h1_mbp_min',\n",
       "       'h1_mbp_noninvasive_max', 'h1_mbp_noninvasive_min', 'h1_resprate_max',\n",
       "       'h1_resprate_min', 'h1_spo2_max', 'h1_spo2_min', 'h1_sysbp_max',\n",
       "       'h1_sysbp_min', 'h1_sysbp_noninvasive_max', 'h1_sysbp_noninvasive_min',\n",
       "       'd1_glucose_max', 'd1_glucose_min', 'd1_potassium_max',\n",
       "       'd1_potassium_min', 'apache_4a_hospital_death_prob',\n",
       "       'apache_4a_icu_death_prob', 'aids', 'cirrhosis', 'diabetes_mellitus',\n",
       "       'hepatic_failure', 'immunosuppression', 'leukemia', 'lymphoma',\n",
       "       'solid_tumor_with_metastasis', 'apache_3j_bodysystem',\n",
       "       'apache_2_bodysystem', 'Unnamed: 83', 'hospital_death'],\n",
       "      dtype='object')"
      ]
     },
     "execution_count": 2,
     "metadata": {},
     "output_type": "execute_result"
    }
   ],
   "source": [
    "survival_df.columns"
   ]
  },
  {
   "cell_type": "code",
   "execution_count": 5,
   "id": "2d22e944",
   "metadata": {},
   "outputs": [
    {
     "data": {
      "text/plain": [
       "0    83798\n",
       "1     7915\n",
       "Name: hospital_death, dtype: int64"
      ]
     },
     "execution_count": 5,
     "metadata": {},
     "output_type": "execute_result"
    }
   ],
   "source": [
    "survival_df['hospital_death'].value_counts()"
   ]
  },
  {
   "cell_type": "code",
   "execution_count": 6,
   "id": "b3bed8b5",
   "metadata": {},
   "outputs": [],
   "source": [
    "survival_df = survival_df.drop(['Unnamed: 83', 'hospital_id', 'encounter_id', 'patient_id', 'icu_id'], axis = 1)"
   ]
  },
  {
   "cell_type": "code",
   "execution_count": 7,
   "id": "66d63063",
   "metadata": {},
   "outputs": [
    {
     "data": {
      "text/plain": [
       "age                            4228\n",
       "bmi                            3429\n",
       "elective_surgery                  0\n",
       "ethnicity                      1395\n",
       "gender                           25\n",
       "                               ... \n",
       "lymphoma                        715\n",
       "solid_tumor_with_metastasis     715\n",
       "apache_3j_bodysystem           1662\n",
       "apache_2_bodysystem            1662\n",
       "hospital_death                    0\n",
       "Length: 80, dtype: int64"
      ]
     },
     "execution_count": 7,
     "metadata": {},
     "output_type": "execute_result"
    }
   ],
   "source": [
    "survival_df.isnull().sum()"
   ]
  },
  {
   "cell_type": "code",
   "execution_count": 8,
   "id": "2d176565",
   "metadata": {},
   "outputs": [],
   "source": [
    "survival_df = survival_df.dropna()"
   ]
  },
  {
   "cell_type": "code",
   "execution_count": 9,
   "id": "218e0110",
   "metadata": {},
   "outputs": [
    {
     "data": {
      "text/plain": [
       "age                            0\n",
       "bmi                            0\n",
       "elective_surgery               0\n",
       "ethnicity                      0\n",
       "gender                         0\n",
       "                              ..\n",
       "lymphoma                       0\n",
       "solid_tumor_with_metastasis    0\n",
       "apache_3j_bodysystem           0\n",
       "apache_2_bodysystem            0\n",
       "hospital_death                 0\n",
       "Length: 80, dtype: int64"
      ]
     },
     "execution_count": 9,
     "metadata": {},
     "output_type": "execute_result"
    }
   ],
   "source": [
    "survival_df.isnull().sum()"
   ]
  },
  {
   "cell_type": "code",
   "execution_count": 10,
   "id": "0601a767",
   "metadata": {},
   "outputs": [
    {
     "data": {
      "text/plain": [
       "(56935, 80)"
      ]
     },
     "execution_count": 10,
     "metadata": {},
     "output_type": "execute_result"
    }
   ],
   "source": [
    "survival_df.shape"
   ]
  },
  {
   "cell_type": "code",
   "execution_count": 8,
   "id": "b47889b3",
   "metadata": {},
   "outputs": [
    {
     "data": {
      "text/html": [
       "<div>\n",
       "<style scoped>\n",
       "    .dataframe tbody tr th:only-of-type {\n",
       "        vertical-align: middle;\n",
       "    }\n",
       "\n",
       "    .dataframe tbody tr th {\n",
       "        vertical-align: top;\n",
       "    }\n",
       "\n",
       "    .dataframe thead th {\n",
       "        text-align: right;\n",
       "    }\n",
       "</style>\n",
       "<table border=\"1\" class=\"dataframe\">\n",
       "  <thead>\n",
       "    <tr style=\"text-align: right;\">\n",
       "      <th></th>\n",
       "      <th>age</th>\n",
       "      <th>bmi</th>\n",
       "      <th>elective_surgery</th>\n",
       "      <th>ethnicity</th>\n",
       "      <th>gender</th>\n",
       "      <th>height</th>\n",
       "      <th>icu_admit_source</th>\n",
       "      <th>icu_stay_type</th>\n",
       "      <th>icu_type</th>\n",
       "      <th>pre_icu_los_days</th>\n",
       "      <th>...</th>\n",
       "      <th>cirrhosis</th>\n",
       "      <th>diabetes_mellitus</th>\n",
       "      <th>hepatic_failure</th>\n",
       "      <th>immunosuppression</th>\n",
       "      <th>leukemia</th>\n",
       "      <th>lymphoma</th>\n",
       "      <th>solid_tumor_with_metastasis</th>\n",
       "      <th>apache_3j_bodysystem</th>\n",
       "      <th>apache_2_bodysystem</th>\n",
       "      <th>hospital_death</th>\n",
       "    </tr>\n",
       "  </thead>\n",
       "  <tbody>\n",
       "    <tr>\n",
       "      <th>0</th>\n",
       "      <td>68.0</td>\n",
       "      <td>22.730000</td>\n",
       "      <td>0</td>\n",
       "      <td>Caucasian</td>\n",
       "      <td>M</td>\n",
       "      <td>180.3</td>\n",
       "      <td>Floor</td>\n",
       "      <td>admit</td>\n",
       "      <td>CTICU</td>\n",
       "      <td>0.541667</td>\n",
       "      <td>...</td>\n",
       "      <td>0.0</td>\n",
       "      <td>1.0</td>\n",
       "      <td>0.0</td>\n",
       "      <td>0.0</td>\n",
       "      <td>0.0</td>\n",
       "      <td>0.0</td>\n",
       "      <td>0.0</td>\n",
       "      <td>Sepsis</td>\n",
       "      <td>Cardiovascular</td>\n",
       "      <td>0</td>\n",
       "    </tr>\n",
       "    <tr>\n",
       "      <th>1</th>\n",
       "      <td>77.0</td>\n",
       "      <td>27.420000</td>\n",
       "      <td>0</td>\n",
       "      <td>Caucasian</td>\n",
       "      <td>F</td>\n",
       "      <td>160.0</td>\n",
       "      <td>Floor</td>\n",
       "      <td>admit</td>\n",
       "      <td>Med-Surg ICU</td>\n",
       "      <td>0.927778</td>\n",
       "      <td>...</td>\n",
       "      <td>0.0</td>\n",
       "      <td>1.0</td>\n",
       "      <td>0.0</td>\n",
       "      <td>0.0</td>\n",
       "      <td>0.0</td>\n",
       "      <td>0.0</td>\n",
       "      <td>0.0</td>\n",
       "      <td>Respiratory</td>\n",
       "      <td>Respiratory</td>\n",
       "      <td>0</td>\n",
       "    </tr>\n",
       "    <tr>\n",
       "      <th>5</th>\n",
       "      <td>67.0</td>\n",
       "      <td>27.560000</td>\n",
       "      <td>0</td>\n",
       "      <td>Caucasian</td>\n",
       "      <td>M</td>\n",
       "      <td>190.5</td>\n",
       "      <td>Accident &amp; Emergency</td>\n",
       "      <td>admit</td>\n",
       "      <td>Med-Surg ICU</td>\n",
       "      <td>0.000694</td>\n",
       "      <td>...</td>\n",
       "      <td>0.0</td>\n",
       "      <td>1.0</td>\n",
       "      <td>0.0</td>\n",
       "      <td>0.0</td>\n",
       "      <td>0.0</td>\n",
       "      <td>0.0</td>\n",
       "      <td>0.0</td>\n",
       "      <td>Neurological</td>\n",
       "      <td>Neurologic</td>\n",
       "      <td>0</td>\n",
       "    </tr>\n",
       "    <tr>\n",
       "      <th>10</th>\n",
       "      <td>72.0</td>\n",
       "      <td>28.257052</td>\n",
       "      <td>1</td>\n",
       "      <td>Hispanic</td>\n",
       "      <td>F</td>\n",
       "      <td>154.9</td>\n",
       "      <td>Operating Room / Recovery</td>\n",
       "      <td>admit</td>\n",
       "      <td>Med-Surg ICU</td>\n",
       "      <td>0.004861</td>\n",
       "      <td>...</td>\n",
       "      <td>0.0</td>\n",
       "      <td>0.0</td>\n",
       "      <td>0.0</td>\n",
       "      <td>1.0</td>\n",
       "      <td>0.0</td>\n",
       "      <td>0.0</td>\n",
       "      <td>0.0</td>\n",
       "      <td>Respiratory</td>\n",
       "      <td>Respiratory</td>\n",
       "      <td>0</td>\n",
       "    </tr>\n",
       "    <tr>\n",
       "      <th>17</th>\n",
       "      <td>46.0</td>\n",
       "      <td>25.845717</td>\n",
       "      <td>0</td>\n",
       "      <td>Hispanic</td>\n",
       "      <td>M</td>\n",
       "      <td>167.6</td>\n",
       "      <td>Accident &amp; Emergency</td>\n",
       "      <td>admit</td>\n",
       "      <td>CTICU</td>\n",
       "      <td>0.000000</td>\n",
       "      <td>...</td>\n",
       "      <td>0.0</td>\n",
       "      <td>0.0</td>\n",
       "      <td>0.0</td>\n",
       "      <td>0.0</td>\n",
       "      <td>0.0</td>\n",
       "      <td>0.0</td>\n",
       "      <td>0.0</td>\n",
       "      <td>Respiratory</td>\n",
       "      <td>Respiratory</td>\n",
       "      <td>0</td>\n",
       "    </tr>\n",
       "    <tr>\n",
       "      <th>...</th>\n",
       "      <td>...</td>\n",
       "      <td>...</td>\n",
       "      <td>...</td>\n",
       "      <td>...</td>\n",
       "      <td>...</td>\n",
       "      <td>...</td>\n",
       "      <td>...</td>\n",
       "      <td>...</td>\n",
       "      <td>...</td>\n",
       "      <td>...</td>\n",
       "      <td>...</td>\n",
       "      <td>...</td>\n",
       "      <td>...</td>\n",
       "      <td>...</td>\n",
       "      <td>...</td>\n",
       "      <td>...</td>\n",
       "      <td>...</td>\n",
       "      <td>...</td>\n",
       "      <td>...</td>\n",
       "      <td>...</td>\n",
       "      <td>...</td>\n",
       "    </tr>\n",
       "    <tr>\n",
       "      <th>91698</th>\n",
       "      <td>47.0</td>\n",
       "      <td>51.439842</td>\n",
       "      <td>1</td>\n",
       "      <td>Caucasian</td>\n",
       "      <td>M</td>\n",
       "      <td>195.0</td>\n",
       "      <td>Operating Room / Recovery</td>\n",
       "      <td>admit</td>\n",
       "      <td>Med-Surg ICU</td>\n",
       "      <td>0.033333</td>\n",
       "      <td>...</td>\n",
       "      <td>0.0</td>\n",
       "      <td>0.0</td>\n",
       "      <td>0.0</td>\n",
       "      <td>0.0</td>\n",
       "      <td>0.0</td>\n",
       "      <td>0.0</td>\n",
       "      <td>0.0</td>\n",
       "      <td>Gastrointestinal</td>\n",
       "      <td>Gastrointestinal</td>\n",
       "      <td>0</td>\n",
       "    </tr>\n",
       "    <tr>\n",
       "      <th>91706</th>\n",
       "      <td>54.0</td>\n",
       "      <td>19.770448</td>\n",
       "      <td>0</td>\n",
       "      <td>Native American</td>\n",
       "      <td>M</td>\n",
       "      <td>177.8</td>\n",
       "      <td>Accident &amp; Emergency</td>\n",
       "      <td>admit</td>\n",
       "      <td>Med-Surg ICU</td>\n",
       "      <td>0.025694</td>\n",
       "      <td>...</td>\n",
       "      <td>0.0</td>\n",
       "      <td>0.0</td>\n",
       "      <td>0.0</td>\n",
       "      <td>0.0</td>\n",
       "      <td>0.0</td>\n",
       "      <td>0.0</td>\n",
       "      <td>0.0</td>\n",
       "      <td>Cardiovascular</td>\n",
       "      <td>Cardiovascular</td>\n",
       "      <td>0</td>\n",
       "    </tr>\n",
       "    <tr>\n",
       "      <th>91708</th>\n",
       "      <td>75.0</td>\n",
       "      <td>23.060250</td>\n",
       "      <td>0</td>\n",
       "      <td>Caucasian</td>\n",
       "      <td>M</td>\n",
       "      <td>177.8</td>\n",
       "      <td>Floor</td>\n",
       "      <td>admit</td>\n",
       "      <td>Cardiac ICU</td>\n",
       "      <td>0.298611</td>\n",
       "      <td>...</td>\n",
       "      <td>0.0</td>\n",
       "      <td>1.0</td>\n",
       "      <td>0.0</td>\n",
       "      <td>0.0</td>\n",
       "      <td>0.0</td>\n",
       "      <td>0.0</td>\n",
       "      <td>1.0</td>\n",
       "      <td>Sepsis</td>\n",
       "      <td>Cardiovascular</td>\n",
       "      <td>0</td>\n",
       "    </tr>\n",
       "    <tr>\n",
       "      <th>91709</th>\n",
       "      <td>56.0</td>\n",
       "      <td>47.179671</td>\n",
       "      <td>0</td>\n",
       "      <td>Caucasian</td>\n",
       "      <td>F</td>\n",
       "      <td>183.0</td>\n",
       "      <td>Floor</td>\n",
       "      <td>admit</td>\n",
       "      <td>Med-Surg ICU</td>\n",
       "      <td>0.120139</td>\n",
       "      <td>...</td>\n",
       "      <td>0.0</td>\n",
       "      <td>0.0</td>\n",
       "      <td>0.0</td>\n",
       "      <td>0.0</td>\n",
       "      <td>0.0</td>\n",
       "      <td>0.0</td>\n",
       "      <td>0.0</td>\n",
       "      <td>Sepsis</td>\n",
       "      <td>Cardiovascular</td>\n",
       "      <td>0</td>\n",
       "    </tr>\n",
       "    <tr>\n",
       "      <th>91712</th>\n",
       "      <td>82.0</td>\n",
       "      <td>22.031250</td>\n",
       "      <td>1</td>\n",
       "      <td>Caucasian</td>\n",
       "      <td>F</td>\n",
       "      <td>160.0</td>\n",
       "      <td>Operating Room / Recovery</td>\n",
       "      <td>admit</td>\n",
       "      <td>Med-Surg ICU</td>\n",
       "      <td>0.018056</td>\n",
       "      <td>...</td>\n",
       "      <td>0.0</td>\n",
       "      <td>0.0</td>\n",
       "      <td>0.0</td>\n",
       "      <td>0.0</td>\n",
       "      <td>0.0</td>\n",
       "      <td>0.0</td>\n",
       "      <td>0.0</td>\n",
       "      <td>Gastrointestinal</td>\n",
       "      <td>Gastrointestinal</td>\n",
       "      <td>0</td>\n",
       "    </tr>\n",
       "  </tbody>\n",
       "</table>\n",
       "<p>56935 rows × 80 columns</p>\n",
       "</div>"
      ],
      "text/plain": [
       "        age        bmi  elective_surgery        ethnicity gender  height  \\\n",
       "0      68.0  22.730000                 0        Caucasian      M   180.3   \n",
       "1      77.0  27.420000                 0        Caucasian      F   160.0   \n",
       "5      67.0  27.560000                 0        Caucasian      M   190.5   \n",
       "10     72.0  28.257052                 1         Hispanic      F   154.9   \n",
       "17     46.0  25.845717                 0         Hispanic      M   167.6   \n",
       "...     ...        ...               ...              ...    ...     ...   \n",
       "91698  47.0  51.439842                 1        Caucasian      M   195.0   \n",
       "91706  54.0  19.770448                 0  Native American      M   177.8   \n",
       "91708  75.0  23.060250                 0        Caucasian      M   177.8   \n",
       "91709  56.0  47.179671                 0        Caucasian      F   183.0   \n",
       "91712  82.0  22.031250                 1        Caucasian      F   160.0   \n",
       "\n",
       "                icu_admit_source icu_stay_type      icu_type  \\\n",
       "0                          Floor         admit         CTICU   \n",
       "1                          Floor         admit  Med-Surg ICU   \n",
       "5           Accident & Emergency         admit  Med-Surg ICU   \n",
       "10     Operating Room / Recovery         admit  Med-Surg ICU   \n",
       "17          Accident & Emergency         admit         CTICU   \n",
       "...                          ...           ...           ...   \n",
       "91698  Operating Room / Recovery         admit  Med-Surg ICU   \n",
       "91706       Accident & Emergency         admit  Med-Surg ICU   \n",
       "91708                      Floor         admit   Cardiac ICU   \n",
       "91709                      Floor         admit  Med-Surg ICU   \n",
       "91712  Operating Room / Recovery         admit  Med-Surg ICU   \n",
       "\n",
       "       pre_icu_los_days  ...  cirrhosis  diabetes_mellitus  hepatic_failure  \\\n",
       "0              0.541667  ...        0.0                1.0              0.0   \n",
       "1              0.927778  ...        0.0                1.0              0.0   \n",
       "5              0.000694  ...        0.0                1.0              0.0   \n",
       "10             0.004861  ...        0.0                0.0              0.0   \n",
       "17             0.000000  ...        0.0                0.0              0.0   \n",
       "...                 ...  ...        ...                ...              ...   \n",
       "91698          0.033333  ...        0.0                0.0              0.0   \n",
       "91706          0.025694  ...        0.0                0.0              0.0   \n",
       "91708          0.298611  ...        0.0                1.0              0.0   \n",
       "91709          0.120139  ...        0.0                0.0              0.0   \n",
       "91712          0.018056  ...        0.0                0.0              0.0   \n",
       "\n",
       "       immunosuppression  leukemia  lymphoma  solid_tumor_with_metastasis  \\\n",
       "0                    0.0       0.0       0.0                          0.0   \n",
       "1                    0.0       0.0       0.0                          0.0   \n",
       "5                    0.0       0.0       0.0                          0.0   \n",
       "10                   1.0       0.0       0.0                          0.0   \n",
       "17                   0.0       0.0       0.0                          0.0   \n",
       "...                  ...       ...       ...                          ...   \n",
       "91698                0.0       0.0       0.0                          0.0   \n",
       "91706                0.0       0.0       0.0                          0.0   \n",
       "91708                0.0       0.0       0.0                          1.0   \n",
       "91709                0.0       0.0       0.0                          0.0   \n",
       "91712                0.0       0.0       0.0                          0.0   \n",
       "\n",
       "       apache_3j_bodysystem  apache_2_bodysystem  hospital_death  \n",
       "0                    Sepsis       Cardiovascular               0  \n",
       "1               Respiratory          Respiratory               0  \n",
       "5              Neurological           Neurologic               0  \n",
       "10              Respiratory          Respiratory               0  \n",
       "17              Respiratory          Respiratory               0  \n",
       "...                     ...                  ...             ...  \n",
       "91698      Gastrointestinal     Gastrointestinal               0  \n",
       "91706        Cardiovascular       Cardiovascular               0  \n",
       "91708                Sepsis       Cardiovascular               0  \n",
       "91709                Sepsis       Cardiovascular               0  \n",
       "91712      Gastrointestinal     Gastrointestinal               0  \n",
       "\n",
       "[56935 rows x 80 columns]"
      ]
     },
     "execution_count": 8,
     "metadata": {},
     "output_type": "execute_result"
    }
   ],
   "source": [
    "survival_df"
   ]
  },
  {
   "cell_type": "code",
   "execution_count": 11,
   "id": "7fadc6d6",
   "metadata": {},
   "outputs": [],
   "source": [
    "survival_df.to_csv(\"Resources/cleaned_data_survival_prediction.csv\", index=False, encoding=\"ISO-8859-1\")"
   ]
  },
  {
   "cell_type": "code",
   "execution_count": null,
   "id": "925ae729",
   "metadata": {},
   "outputs": [],
   "source": []
  },
  {
   "cell_type": "code",
   "execution_count": 12,
   "id": "56e41267",
   "metadata": {},
   "outputs": [],
   "source": [
    "X = survival_df.drop('hospital_death', axis=1)\n",
    "y = survival_df['hospital_death']"
   ]
  },
  {
   "cell_type": "code",
   "execution_count": 13,
   "id": "1232e19c",
   "metadata": {},
   "outputs": [],
   "source": [
    "X = pd.get_dummies(X)"
   ]
  },
  {
   "cell_type": "code",
   "execution_count": 14,
   "id": "effd8fc5",
   "metadata": {},
   "outputs": [
    {
     "name": "stdout",
     "output_type": "stream",
     "text": [
      "Original dataset shape Counter({0: 52044, 1: 4891})\n",
      "Resample dataset shape Counter({0: 52044, 1: 52044})\n"
     ]
    }
   ],
   "source": [
    "#Balance Data - oversampling\n",
    "from imblearn.over_sampling import RandomOverSampler\n",
    "from collections import Counter\n",
    "ros = RandomOverSampler(random_state=42)\n",
    "\n",
    "x_ros, y_ros = ros.fit_resample(X, y)\n",
    "\n",
    "print('Original dataset shape', Counter(y))\n",
    "print('Resample dataset shape', Counter(y_ros))"
   ]
  },
  {
   "cell_type": "code",
   "execution_count": null,
   "id": "2fd582fd",
   "metadata": {},
   "outputs": [
    {
     "name": "stdout",
     "output_type": "stream",
     "text": [
      "Model: LinearRegression\n",
      "Train score: 0.3893357017292717\n",
      "Test Score: 0.3944265648588078\n",
      "\n",
      "Model: KNeighborsRegressor\n",
      "Train score: 0.8833108962244887\n",
      "Test Score: 0.7893512148225778\n",
      "\n",
      "Model: RandomForestRegressor\n",
      "Train score: 0.9897229803056263\n",
      "Test Score: 0.9298706913348107\n",
      "\n",
      "Model: ExtraTreesRegressor\n",
      "Train score: 1.0\n",
      "Test Score: 0.9619932168701997\n",
      "\n",
      "Model: AdaBoostRegressor\n",
      "Train score: 0.38417793695909874\n",
      "Test Score: 0.39028293581672036\n",
      "\n",
      "Model: SVR\n",
      "Train score: 0.8008370968019897\n"
     ]
    }
   ],
   "source": [
    "#Evaluate Models with balanced and scaled data\n",
    "%matplotlib inline\n",
    "from matplotlib import pyplot as plt\n",
    "import numpy as np\n",
    "import pandas as pd\n",
    "from sklearn.linear_model import LinearRegression, Ridge, Lasso, ElasticNet\n",
    "from sklearn.model_selection import train_test_split\n",
    "from sklearn.preprocessing import StandardScaler\n",
    " \n",
    "def test_model(model, data):\n",
    "    X_train_scaled, X_test_scaled, y_train, y_test = data\n",
    "    reg = model.fit(X_train_scaled, y_train)\n",
    "    print(f'Model: {type(reg).__name__}')\n",
    "    print(f'Train score: {reg.score(X_train_scaled, y_train)}')\n",
    "    print(f'Test Score: {reg.score(X_test_scaled, y_test)}\\n')\n",
    "    plt.show()   \n",
    " \n",
    "\n",
    "X_train, X_test, y_train, y_test = train_test_split(x_ros, y_ros, random_state=1)\n",
    "scaler = StandardScaler().fit(X_train)\n",
    "X_train_scaled = scaler.transform(X_train)\n",
    "X_test_scaled = scaler.transform(X_test)\n",
    "data = [X_train_scaled, X_test_scaled, y_train, y_test]\n",
    " \n",
    "from sklearn.neighbors import KNeighborsRegressor\n",
    "from sklearn.ensemble import RandomForestRegressor, ExtraTreesRegressor, AdaBoostRegressor\n",
    "from sklearn.svm import SVR\n",
    " \n",
    " \n",
    "test_model(LinearRegression(), data)\n",
    " \n",
    "test_model(KNeighborsRegressor(), data)\n",
    "test_model(RandomForestRegressor(), data)\n",
    "test_model(ExtraTreesRegressor(), data)\n",
    "test_model(AdaBoostRegressor(), data)\n",
    "test_model(SVR(C=1.0, epsilon=0.2), data)"
   ]
  },
  {
   "cell_type": "code",
   "execution_count": 15,
   "id": "3d7224df",
   "metadata": {},
   "outputs": [],
   "source": [
    "%matplotlib inline\n",
    "from matplotlib import pyplot as plt\n",
    "import numpy as np\n",
    "import pandas as pd\n",
    "from sklearn.linear_model import LinearRegression, Ridge, Lasso, ElasticNet\n",
    "from sklearn.model_selection import train_test_split\n",
    "from sklearn.preprocessing import StandardScaler\n",
    " \n",
    "def test_model(model, data):\n",
    "    X_train_scaled, X_test_scaled, y_train, y_test = data\n",
    "    reg = model.fit(X_train_scaled, y_train)\n",
    "    print(f'Model: {type(reg).__name__}')\n",
    "    print(f'Train score: {reg.score(X_train_scaled, y_train)}')\n",
    "    print(f'Test Score: {reg.score(X_test_scaled, y_test)}\\n')\n",
    "    plt.show()   \n",
    " \n",
    "\n",
    "X_train, X_test, y_train, y_test = train_test_split(x_ros, y_ros, random_state=1)\n",
    "scaler = StandardScaler().fit(X_train)\n",
    "X_train_scaled = scaler.transform(X_train)\n",
    "X_test_scaled = scaler.transform(X_test)\n",
    "data = [X_train_scaled, X_test_scaled, y_train, y_test]\n",
    " \n",
    "from sklearn.neighbors import KNeighborsRegressor\n",
    "from sklearn.ensemble import RandomForestRegressor, ExtraTreesRegressor, AdaBoostRegressor\n",
    "from sklearn.svm import SVR\n"
   ]
  },
  {
   "cell_type": "code",
   "execution_count": 16,
   "id": "30e0071d",
   "metadata": {},
   "outputs": [
    {
     "name": "stdout",
     "output_type": "stream",
     "text": [
      "Model: LinearRegression\n",
      "Train score: 0.3893357017292717\n",
      "Test Score: 0.3944265648588078\n",
      "\n"
     ]
    }
   ],
   "source": [
    "test_model(LinearRegression(), data)"
   ]
  },
  {
   "cell_type": "code",
   "execution_count": 17,
   "id": "cad695de",
   "metadata": {},
   "outputs": [
    {
     "name": "stdout",
     "output_type": "stream",
     "text": [
      "Model: KNeighborsRegressor\n",
      "Train score: 0.8833108962244887\n",
      "Test Score: 0.7893512148225778\n",
      "\n"
     ]
    }
   ],
   "source": [
    "test_model(KNeighborsRegressor(), data)"
   ]
  },
  {
   "cell_type": "code",
   "execution_count": 22,
   "id": "c8dcd111",
   "metadata": {},
   "outputs": [
    {
     "name": "stdout",
     "output_type": "stream",
     "text": [
      "Model: LogisticRegression\n",
      "Train score: 0.7872825557861297\n",
      "Test Score: 0.7891399584966566\n",
      "\n"
     ]
    }
   ],
   "source": [
    "from sklearn.linear_model import LogisticRegression\n",
    "test_model(LogisticRegression(max_iter=1000), data)"
   ]
  },
  {
   "cell_type": "code",
   "execution_count": null,
   "id": "ad88a7f3",
   "metadata": {},
   "outputs": [],
   "source": [
    "from sklearn.svm import SVC \n",
    "test_model(SVC(kernel='linear'), data)"
   ]
  },
  {
   "cell_type": "code",
   "execution_count": null,
   "id": "e4cbabaa",
   "metadata": {},
   "outputs": [],
   "source": [
    "test_model(SVR(C=1.0, epsilon=0.2), data)"
   ]
  },
  {
   "cell_type": "code",
   "execution_count": null,
   "id": "e3b79652",
   "metadata": {},
   "outputs": [],
   "source": []
  },
  {
   "cell_type": "code",
   "execution_count": null,
   "id": "c7a74492",
   "metadata": {},
   "outputs": [],
   "source": []
  },
  {
   "cell_type": "code",
   "execution_count": null,
   "id": "995740db",
   "metadata": {},
   "outputs": [],
   "source": []
  },
  {
   "cell_type": "code",
   "execution_count": null,
   "id": "1ad42d5d",
   "metadata": {},
   "outputs": [],
   "source": []
  },
  {
   "cell_type": "code",
   "execution_count": null,
   "id": "0e308a5a",
   "metadata": {},
   "outputs": [],
   "source": []
  }
 ],
 "metadata": {
  "kernelspec": {
   "display_name": "Python [conda env:PythonData38] *",
   "language": "python",
   "name": "conda-env-PythonData38-py"
  },
  "language_info": {
   "codemirror_mode": {
    "name": "ipython",
    "version": 3
   },
   "file_extension": ".py",
   "mimetype": "text/x-python",
   "name": "python",
   "nbconvert_exporter": "python",
   "pygments_lexer": "ipython3",
   "version": "3.8.12"
  }
 },
 "nbformat": 4,
 "nbformat_minor": 5
}

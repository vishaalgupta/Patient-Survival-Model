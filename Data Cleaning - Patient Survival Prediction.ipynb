{
 "cells": [
  {
   "cell_type": "code",
   "execution_count": null,
   "id": "ed21b731",
   "metadata": {},
   "outputs": [],
   "source": [
    "import pandas as pd\n",
    "survival_df = pd.read_csv(\"../Patient-Survival-Model/Resources/Patient survival dataset.csv\")"
   ]
  },
  {
   "cell_type": "code",
   "execution_count": null,
   "id": "7ae90533",
   "metadata": {},
   "outputs": [],
   "source": [
    "survival_df.columns"
   ]
  },
  {
   "cell_type": "code",
   "execution_count": null,
   "id": "4553e688",
   "metadata": {},
   "outputs": [],
   "source": [
    "survival_df = survival_df.drop(['Unnamed: 83', 'encounter_id', 'patient_id', 'icu_id'], axis = 1)"
   ]
  },
  {
   "cell_type": "code",
   "execution_count": null,
   "id": "917bac2f",
   "metadata": {},
   "outputs": [],
   "source": [
    "survival_df.isnull().sum()"
   ]
  },
  {
   "cell_type": "code",
   "execution_count": null,
   "id": "3427ce1b",
   "metadata": {},
   "outputs": [],
   "source": [
    "survival_df = survival_df.dropna()"
   ]
  },
  {
   "cell_type": "code",
   "execution_count": null,
   "id": "254fab9e",
   "metadata": {},
   "outputs": [],
   "source": [
    "survival_df.isnull().sum()"
   ]
  },
  {
   "cell_type": "code",
   "execution_count": null,
   "id": "8f2a56e9",
   "metadata": {},
   "outputs": [],
   "source": [
    "survival_df.shape"
   ]
  },
  {
   "cell_type": "code",
   "execution_count": null,
   "id": "84b68f7a",
   "metadata": {},
   "outputs": [],
   "source": [
    "survival_df"
   ]
  },
  {
   "cell_type": "code",
   "execution_count": null,
   "id": "04810581",
   "metadata": {},
   "outputs": [],
   "source": []
  },
  {
   "cell_type": "code",
   "execution_count": null,
   "id": "6cf69206",
   "metadata": {},
   "outputs": [],
   "source": []
  },
  {
   "cell_type": "code",
   "execution_count": null,
   "id": "e2ba28e0",
   "metadata": {},
   "outputs": [],
   "source": []
  },
  {
   "cell_type": "code",
   "execution_count": null,
   "id": "074817d5",
   "metadata": {},
   "outputs": [],
   "source": []
  },
  {
   "cell_type": "code",
   "execution_count": null,
   "id": "e218223b",
   "metadata": {},
   "outputs": [],
   "source": []
  },
  {
   "cell_type": "code",
   "execution_count": null,
   "id": "f58c5d47",
   "metadata": {},
   "outputs": [],
   "source": []
  }
 ],
 "metadata": {
  "kernelspec": {
   "display_name": "Python [conda env:PythonData38] *",
   "language": "python",
   "name": "conda-env-PythonData38-py"
  },
  "language_info": {
   "codemirror_mode": {
    "name": "ipython",
    "version": 3
   },
   "file_extension": ".py",
   "mimetype": "text/x-python",
   "name": "python",
   "nbconvert_exporter": "python",
   "pygments_lexer": "ipython3",
   "version": "3.8.12"
  }
 },
 "nbformat": 4,
 "nbformat_minor": 5
}

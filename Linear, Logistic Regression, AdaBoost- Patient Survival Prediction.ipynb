{
 "cells": [
  {
   "cell_type": "markdown",
   "id": "3fee60c6",
   "metadata": {},
   "source": [
    "# Summary\n",
    "## Logistic Regression\n",
    "    With imbalanced data set: \n",
    "    Training Data Score: 0.9184328235872696\n",
    "    Testing Data Score: 0.9196993115076577\n",
    "    \n",
    "    Balanced data set - oversampling:\n",
    "    Training Data Score: 0.7621371659877539\n",
    "    Testing Data Score: 0.7653523941280455\n",
    "    \n",
    "    Balanced and scaled data set:\n",
    "    Training Data Score: 0.7874234621986524\n",
    "    Testing Data Score: 0.7897548228422104\n",
    "    \n",
    "    Balanced data with feature selection:\n",
    "    Training Score: 0.7735890144236928\n",
    "    Testing Score: 0.779494274075782\n",
    "    \n",
    "## Linear Regression\n",
    "    With imbalanced data set:\n",
    "    Training Score: 0.2191701004944563\n",
    "    Testing Score: 0.21709164708500517\n",
    "    \n",
    "    Balanced data set - oversampling:\n",
    "    Training Score: 0.388831133678463\n",
    "    Testing Score: 0.39622325145411474\n",
    "    \n",
    "    Balanced and scaled data set:\n",
    "    Training Score: 0.389331570456394\n",
    "    Testing Score: 0.394187701105674\n",
    "    \n",
    "## AdaBoost Classifier\n",
    "    Balanced and scaled data set:\n",
    "    Training Score: 0.8103527784182615\n",
    "    Testing Score: 0.808085466144032\n",
    "    \n",
    "## Random Forest Classifier\n",
    "    Balanced and scaled data set:\n",
    "    Training Score: 1.0\n",
    "    Testing Score: 0.9869341326569826\n",
    "    \n",
    "## Extra Trees Classifier\n",
    "    Balanced and scaled data set:\n",
    "    Training Score: 1.0\n",
    "    Testing Score: 0.995465375451541\n",
    "    \n",
    "## KNN \n",
    "    Balanced and scaled data set:\n",
    "    k: 3\n",
    "    Training Score: 0.974\n",
    "    Testing Score: 0.951\n",
    "    "
   ]
  },
  {
   "cell_type": "code",
   "execution_count": 1,
   "id": "1168bba9",
   "metadata": {},
   "outputs": [],
   "source": [
    "%matplotlib inline\n",
    "import pandas as pd\n",
    "from sklearn.model_selection import train_test_split\n",
    "from collections import Counter\n",
    "import matplotlib.pyplot as plt\n",
    "from matplotlib import pyplot as plt\n",
    "from sklearn.datasets import make_classification\n",
    "import numpy as np\n",
    "from sklearn.ensemble import RandomForestClassifier\n",
    "from sklearn.tree import DecisionTreeClassifier\n",
    "from sklearn.linear_model import LogisticRegression\n",
    "from sklearn.model_selection import train_test_split\n",
    "from sklearn.preprocessing import StandardScaler\n",
    "from sklearn.feature_selection import SelectFromModel\n",
    "from sklearn.ensemble import AdaBoostClassifier\n",
    "\n",
    "survival_df = pd.read_csv(\"../Patient-Survival-Model/Resources/cleaned_data_survival_prediction.csv\")"
   ]
  },
  {
   "cell_type": "code",
   "execution_count": 2,
   "id": "93445570",
   "metadata": {},
   "outputs": [
    {
     "data": {
      "text/plain": [
       "Index(['age', 'bmi', 'elective_surgery', 'ethnicity', 'gender', 'height',\n",
       "       'icu_admit_source', 'icu_id', 'icu_stay_type', 'icu_type',\n",
       "       'pre_icu_los_days', 'weight', 'apache_2_diagnosis',\n",
       "       'apache_3j_diagnosis', 'apache_post_operative', 'arf_apache',\n",
       "       'gcs_eyes_apache', 'gcs_motor_apache', 'gcs_unable_apache',\n",
       "       'gcs_verbal_apache', 'heart_rate_apache', 'intubated_apache',\n",
       "       'map_apache', 'resprate_apache', 'temp_apache', 'ventilated_apache',\n",
       "       'd1_diasbp_max', 'd1_diasbp_min', 'd1_diasbp_noninvasive_max',\n",
       "       'd1_diasbp_noninvasive_min', 'd1_heartrate_max', 'd1_heartrate_min',\n",
       "       'd1_mbp_max', 'd1_mbp_min', 'd1_mbp_noninvasive_max',\n",
       "       'd1_mbp_noninvasive_min', 'd1_resprate_max', 'd1_resprate_min',\n",
       "       'd1_spo2_max', 'd1_spo2_min', 'd1_sysbp_max', 'd1_sysbp_min',\n",
       "       'd1_sysbp_noninvasive_max', 'd1_sysbp_noninvasive_min', 'd1_temp_max',\n",
       "       'd1_temp_min', 'h1_diasbp_max', 'h1_diasbp_min',\n",
       "       'h1_diasbp_noninvasive_max', 'h1_diasbp_noninvasive_min',\n",
       "       'h1_heartrate_max', 'h1_heartrate_min', 'h1_mbp_max', 'h1_mbp_min',\n",
       "       'h1_mbp_noninvasive_max', 'h1_mbp_noninvasive_min', 'h1_resprate_max',\n",
       "       'h1_resprate_min', 'h1_spo2_max', 'h1_spo2_min', 'h1_sysbp_max',\n",
       "       'h1_sysbp_min', 'h1_sysbp_noninvasive_max', 'h1_sysbp_noninvasive_min',\n",
       "       'd1_glucose_max', 'd1_glucose_min', 'd1_potassium_max',\n",
       "       'd1_potassium_min', 'apache_4a_hospital_death_prob',\n",
       "       'apache_4a_icu_death_prob', 'aids', 'cirrhosis', 'diabetes_mellitus',\n",
       "       'hepatic_failure', 'immunosuppression', 'leukemia', 'lymphoma',\n",
       "       'solid_tumor_with_metastasis', 'apache_3j_bodysystem',\n",
       "       'apache_2_bodysystem', 'hospital_death'],\n",
       "      dtype='object')"
      ]
     },
     "execution_count": 2,
     "metadata": {},
     "output_type": "execute_result"
    }
   ],
   "source": [
    "survival_df.columns"
   ]
  },
  {
   "cell_type": "code",
   "execution_count": 3,
   "id": "70e70a05",
   "metadata": {},
   "outputs": [
    {
     "data": {
      "text/plain": [
       "0    52044\n",
       "1     4891\n",
       "Name: hospital_death, dtype: int64"
      ]
     },
     "execution_count": 3,
     "metadata": {},
     "output_type": "execute_result"
    }
   ],
   "source": [
    "survival_df['hospital_death'].value_counts()"
   ]
  },
  {
   "cell_type": "code",
   "execution_count": 4,
   "id": "2b0cad16",
   "metadata": {},
   "outputs": [
    {
     "data": {
      "text/plain": [
       "91.40950206375692"
      ]
     },
     "execution_count": 4,
     "metadata": {},
     "output_type": "execute_result"
    }
   ],
   "source": [
    "percent_survived = 52044/56935 * 100\n",
    "percent_survived"
   ]
  },
  {
   "cell_type": "code",
   "execution_count": 8,
   "id": "6eda135a",
   "metadata": {},
   "outputs": [],
   "source": [
    "survival_df_features = survival_df[['apache_4a_hospital_death_prob', 'apache_4a_icu_death_prob',\n",
    "                                  'd1_spo2_min', 'd1_temp_min', 'd1_sysbp_noninvasive_min',\n",
    "                                  'd1_sysbp_min', 'd1_heartrate_min', 'heart_rate_apache',\n",
    "                                  'apache_3j_diagnosis', 'pre_icu_los_days','hospital_death']]"
   ]
  },
  {
   "cell_type": "code",
   "execution_count": null,
   "id": "44a81296",
   "metadata": {},
   "outputs": [],
   "source": []
  },
  {
   "cell_type": "code",
   "execution_count": null,
   "id": "7fea8890",
   "metadata": {},
   "outputs": [],
   "source": []
  },
  {
   "cell_type": "code",
   "execution_count": 10,
   "id": "b7e4681c",
   "metadata": {},
   "outputs": [],
   "source": [
    "X = survival_df_features.drop('hospital_death', axis=1)\n",
    "y = survival_df_features['hospital_death']"
   ]
  },
  {
   "cell_type": "code",
   "execution_count": 11,
   "id": "044495d8",
   "metadata": {},
   "outputs": [],
   "source": [
    "X = pd.get_dummies(X)"
   ]
  },
  {
   "cell_type": "markdown",
   "id": "874bc665",
   "metadata": {},
   "source": [
    "### Logistic Regression with imbalanced data set "
   ]
  },
  {
   "cell_type": "code",
   "execution_count": 7,
   "id": "7bbaf8a7",
   "metadata": {},
   "outputs": [
    {
     "name": "stdout",
     "output_type": "stream",
     "text": [
      "Training Data Score: 0.918385986276668\n",
      "Testing Data Score: 0.919629057187017\n"
     ]
    },
    {
     "name": "stderr",
     "output_type": "stream",
     "text": [
      "/Users/lindseyvalput/opt/anaconda3/envs/PythonData38/lib/python3.8/site-packages/sklearn/linear_model/_logistic.py:444: ConvergenceWarning: lbfgs failed to converge (status=1):\n",
      "STOP: TOTAL NO. of ITERATIONS REACHED LIMIT.\n",
      "\n",
      "Increase the number of iterations (max_iter) or scale the data as shown in:\n",
      "    https://scikit-learn.org/stable/modules/preprocessing.html\n",
      "Please also refer to the documentation for alternative solver options:\n",
      "    https://scikit-learn.org/stable/modules/linear_model.html#logistic-regression\n",
      "  n_iter_i = _check_optimize_result(\n"
     ]
    }
   ],
   "source": [
    "X_train, X_test, y_train, y_test = train_test_split(X, y, random_state=1)\n",
    "\n",
    "from sklearn.linear_model import LogisticRegression\n",
    "classifier = LogisticRegression()\n",
    "\n",
    "\n",
    "classifier.fit(X_train, y_train)\n",
    "\n",
    "print(f\"Training Data Score: {classifier.score(X_train, y_train)}\")\n",
    "print(f\"Testing Data Score: {classifier.score(X_test, y_test)}\")\n"
   ]
  },
  {
   "cell_type": "code",
   "execution_count": 8,
   "id": "3b13d0ca",
   "metadata": {},
   "outputs": [
    {
     "name": "stdout",
     "output_type": "stream",
     "text": [
      "              precision    recall  f1-score   support\n",
      "\n",
      "           0       0.93      0.99      0.96     13035\n",
      "           1       0.61      0.13      0.22      1199\n",
      "\n",
      "    accuracy                           0.92     14234\n",
      "   macro avg       0.77      0.56      0.59     14234\n",
      "weighted avg       0.90      0.92      0.90     14234\n",
      "\n"
     ]
    }
   ],
   "source": [
    "from sklearn.metrics import confusion_matrix, classification_report\n",
    "\n",
    "y_true = y_test\n",
    "y_pred = classifier.predict(X_test)\n",
    "confusion_matrix(y_true, y_pred)\n",
    "confusion_matrix(y, classifier.predict(X))\n",
    "print(classification_report(y_true, y_pred))"
   ]
  },
  {
   "cell_type": "markdown",
   "id": "a724c197",
   "metadata": {},
   "source": [
    "### Balance the Data Set - OVERSAMPLING"
   ]
  },
  {
   "cell_type": "code",
   "execution_count": 12,
   "id": "dfa1bb8f",
   "metadata": {},
   "outputs": [
    {
     "name": "stdout",
     "output_type": "stream",
     "text": [
      "Original dataset shape Counter({0: 52044, 1: 4891})\n",
      "Resample dataset shape Counter({0: 52044, 1: 52044})\n"
     ]
    }
   ],
   "source": [
    "#Balance Data - oversampling\n",
    "from imblearn.over_sampling import RandomOverSampler\n",
    "\n",
    "ros = RandomOverSampler(random_state=42)\n",
    "\n",
    "x_ros, y_ros = ros.fit_resample(X, y)\n",
    "\n",
    "print('Original dataset shape', Counter(y))\n",
    "print('Resample dataset shape', Counter(y_ros))\n"
   ]
  },
  {
   "cell_type": "code",
   "execution_count": 10,
   "id": "7e08569a",
   "metadata": {},
   "outputs": [],
   "source": [
    "X_train, X_test, y_train, y_test = train_test_split(x_ros, y_ros, random_state=1)\n",
    "from sklearn.preprocessing import StandardScaler\n",
    "\n",
    "scaler = StandardScaler().fit(X_train)\n",
    "X_train_scaled = scaler.transform(X_train)\n",
    "\n",
    "X_test_scaled = scaler.transform(X_test)\n"
   ]
  },
  {
   "cell_type": "markdown",
   "id": "16c3b5e0",
   "metadata": {},
   "source": [
    "### Logistic Regression - balanced data set & scaled."
   ]
  },
  {
   "cell_type": "code",
   "execution_count": 11,
   "id": "3dcae767",
   "metadata": {},
   "outputs": [
    {
     "name": "stdout",
     "output_type": "stream",
     "text": [
      "Training Data Score: 0.7872825557861297\n",
      "Testing Data Score: 0.7891399584966566\n"
     ]
    }
   ],
   "source": [
    "from sklearn.linear_model import LogisticRegression\n",
    "classifier = LogisticRegression(max_iter=1000)\n",
    "\n",
    "classifier.fit(X_train_scaled, y_train)\n",
    "\n",
    "print(f\"Training Data Score: {classifier.score(X_train_scaled, y_train)}\")\n",
    "print(f\"Testing Data Score: {classifier.score(X_test_scaled, y_test)}\")"
   ]
  },
  {
   "cell_type": "code",
   "execution_count": 12,
   "id": "e5542490",
   "metadata": {},
   "outputs": [
    {
     "name": "stderr",
     "output_type": "stream",
     "text": [
      "/Users/lindseyvalput/opt/anaconda3/envs/PythonData38/lib/python3.8/site-packages/sklearn/base.py:443: UserWarning: X has feature names, but LogisticRegression was fitted without feature names\n",
      "  warnings.warn(\n"
     ]
    },
    {
     "name": "stdout",
     "output_type": "stream",
     "text": [
      "              precision    recall  f1-score   support\n",
      "\n",
      "           0       0.78      0.81      0.79     12967\n",
      "           1       0.80      0.77      0.79     13055\n",
      "\n",
      "    accuracy                           0.79     26022\n",
      "   macro avg       0.79      0.79      0.79     26022\n",
      "weighted avg       0.79      0.79      0.79     26022\n",
      "\n"
     ]
    }
   ],
   "source": [
    "y_true = y_test\n",
    "y_pred = classifier.predict(X_test_scaled)\n",
    "confusion_matrix(y_true, y_pred)\n",
    "confusion_matrix(y_ros, classifier.predict(x_ros))\n",
    "print(classification_report(y_true, y_pred))"
   ]
  },
  {
   "cell_type": "markdown",
   "id": "b589771a",
   "metadata": {},
   "source": [
    "### Logistic Regression - balanced data set only."
   ]
  },
  {
   "cell_type": "code",
   "execution_count": 13,
   "id": "4b1b5339",
   "metadata": {},
   "outputs": [
    {
     "name": "stdout",
     "output_type": "stream",
     "text": [
      "Training Data Score: 0.7553096098173341\n",
      "Testing Data Score: 0.7579740219814004\n"
     ]
    },
    {
     "name": "stderr",
     "output_type": "stream",
     "text": [
      "/Users/lindseyvalput/opt/anaconda3/envs/PythonData38/lib/python3.8/site-packages/sklearn/linear_model/_logistic.py:444: ConvergenceWarning: lbfgs failed to converge (status=1):\n",
      "STOP: TOTAL NO. of ITERATIONS REACHED LIMIT.\n",
      "\n",
      "Increase the number of iterations (max_iter) or scale the data as shown in:\n",
      "    https://scikit-learn.org/stable/modules/preprocessing.html\n",
      "Please also refer to the documentation for alternative solver options:\n",
      "    https://scikit-learn.org/stable/modules/linear_model.html#logistic-regression\n",
      "  n_iter_i = _check_optimize_result(\n"
     ]
    }
   ],
   "source": [
    "X_train, X_test, y_train, y_test = train_test_split(x_ros, y_ros, random_state=1)\n",
    "from sklearn.linear_model import LogisticRegression\n",
    "classifier = LogisticRegression()\n",
    "\n",
    "\n",
    "classifier.fit(X_train, y_train)\n",
    "\n",
    "print(f\"Training Data Score: {classifier.score(X_train, y_train)}\")\n",
    "print(f\"Testing Data Score: {classifier.score(X_test, y_test)}\")"
   ]
  },
  {
   "cell_type": "code",
   "execution_count": 14,
   "id": "7cc3a04c",
   "metadata": {},
   "outputs": [
    {
     "name": "stdout",
     "output_type": "stream",
     "text": [
      "              precision    recall  f1-score   support\n",
      "\n",
      "           0       0.75      0.78      0.76     12967\n",
      "           1       0.77      0.74      0.75     13055\n",
      "\n",
      "    accuracy                           0.76     26022\n",
      "   macro avg       0.76      0.76      0.76     26022\n",
      "weighted avg       0.76      0.76      0.76     26022\n",
      "\n"
     ]
    }
   ],
   "source": [
    "y_true = y_test\n",
    "y_pred = classifier.predict(X_test)\n",
    "confusion_matrix(y_true, y_pred)\n",
    "confusion_matrix(y_ros, classifier.predict(x_ros))\n",
    "print(classification_report(y_true, y_pred))"
   ]
  },
  {
   "cell_type": "markdown",
   "id": "41aee881",
   "metadata": {},
   "source": [
    "### Linear Regression with imbalanced data set"
   ]
  },
  {
   "cell_type": "code",
   "execution_count": 15,
   "id": "74f36fe0",
   "metadata": {},
   "outputs": [
    {
     "name": "stdout",
     "output_type": "stream",
     "text": [
      "Training Score: 0.2191687576725242\n",
      "Testing Score: 0.21710631436219063\n"
     ]
    }
   ],
   "source": [
    "#Linear Regression Model WITHOUT balancing the data\n",
    "from sklearn.model_selection import train_test_split\n",
    "X_train, X_test, y_train, y_test = train_test_split(X, y, random_state=1)\n",
    "\n",
    "from sklearn.linear_model import LinearRegression\n",
    "model = LinearRegression()\n",
    "\n",
    "model.fit(X_train, y_train)\n",
    "training_score = model.score(X_train, y_train)\n",
    "testing_score = model.score(X_test, y_test)\n",
    "\n",
    "print(f\"Training Score: {training_score}\")\n",
    "print(f\"Testing Score: {testing_score}\")"
   ]
  },
  {
   "cell_type": "markdown",
   "id": "a4a23d3f",
   "metadata": {},
   "source": [
    "### Linear Regression - balanced data set & scaled."
   ]
  },
  {
   "cell_type": "code",
   "execution_count": 16,
   "id": "264a8ff9",
   "metadata": {},
   "outputs": [],
   "source": [
    "X_train, X_test, y_train, y_test = train_test_split(x_ros, y_ros, random_state=1)\n",
    "from sklearn.preprocessing import StandardScaler\n",
    "\n",
    "scaler = StandardScaler().fit(X_train)\n",
    "X_train_scaled = scaler.transform(X_train)\n",
    "\n",
    "X_test_scaled = scaler.transform(X_test)\n",
    "\n"
   ]
  },
  {
   "cell_type": "code",
   "execution_count": 17,
   "id": "9bf9376a",
   "metadata": {},
   "outputs": [
    {
     "name": "stdout",
     "output_type": "stream",
     "text": [
      "Training Score: 0.3893357017292717\n",
      "Testing Score: 0.3944265648588078\n"
     ]
    }
   ],
   "source": [
    "from sklearn.linear_model import LinearRegression\n",
    "lrm = LinearRegression()\n",
    "\n",
    "lrm.fit(X_train_scaled, y_train)\n",
    "training_score = lrm.score(X_train_scaled, y_train)\n",
    "testing_score = lrm.score(X_test_scaled, y_test)\n",
    "\n",
    "print(f\"Training Score: {training_score}\")\n",
    "print(f\"Testing Score: {testing_score}\")"
   ]
  },
  {
   "cell_type": "markdown",
   "id": "02befbe5",
   "metadata": {},
   "source": [
    "### Linear Regression - balanced data set only."
   ]
  },
  {
   "cell_type": "code",
   "execution_count": 18,
   "id": "70fc080d",
   "metadata": {},
   "outputs": [
    {
     "name": "stdout",
     "output_type": "stream",
     "text": [
      "Training Score: 0.38881335895182256\n",
      "Testing Score: 0.39616974693264695\n"
     ]
    }
   ],
   "source": [
    "#Linear Regression Model WITH balancing the data by Oversampling\n",
    "from sklearn.model_selection import train_test_split\n",
    "X_train, X_test, y_train, y_test = train_test_split(x_ros, y_ros, random_state=42)\n",
    "\n",
    "from sklearn.linear_model import LinearRegression\n",
    "model = LinearRegression()\n",
    "\n",
    "model.fit(X_train, y_train)\n",
    "training_score = model.score(X_train, y_train)\n",
    "testing_score = model.score(X_test, y_test)\n",
    "\n",
    "print(f\"Training Score: {training_score}\")\n",
    "print(f\"Testing Score: {testing_score}\")\n"
   ]
  },
  {
   "cell_type": "markdown",
   "id": "39dad6bb",
   "metadata": {},
   "source": [
    "### Logistic Regression with feature selection"
   ]
  },
  {
   "cell_type": "code",
   "execution_count": 18,
   "id": "c09d837a",
   "metadata": {},
   "outputs": [],
   "source": [
    "clf = LogisticRegression(max_iter=1000)\n",
    "# sel = SelectFromModel(clf)\n",
    "# sel.fit(X_train_scaled, y_train)\n",
    "# sel.get_support()"
   ]
  },
  {
   "cell_type": "code",
   "execution_count": 19,
   "id": "7bffb900",
   "metadata": {},
   "outputs": [],
   "source": [
    "# X_selected_train, X_selected_test, y_train, y_test = train_test_split(sel.transform(x_ros), y_ros, random_state=1)\n",
    "# scaler = StandardScaler().fit(X_selected_train)\n",
    "# X_selected_train_scaled = scaler.transform(X_selected_train)\n",
    "# X_selected_test_scaled = scaler.transform(X_selected_test)\n",
    "\n",
    "X_train, X_test, y_train, y_test = train_test_split(x_ros, y_ros, random_state=42)"
   ]
  },
  {
   "cell_type": "code",
   "execution_count": 20,
   "id": "07bf9e05",
   "metadata": {},
   "outputs": [
    {
     "name": "stdout",
     "output_type": "stream",
     "text": [
      "Training Score: 0.7735890144236928\n",
      "Testing Score: 0.779494274075782\n"
     ]
    }
   ],
   "source": [
    "\n",
    "clf.fit(X_train, y_train)\n",
    "print(f'Training Score: {clf.score(X_train, y_train)}')\n",
    "print(f'Testing Score: {clf.score(X_test, y_test)}')\n",
    "\n",
    "# clf.fit(X_selected_train_scaled, y_train)\n",
    "# print(f'Training Score: {clf.score(X_selected_train_scaled, y_train)}')\n",
    "# print(f'Testing Score: {clf.score(X_selected_test_scaled, y_test)}')\n"
   ]
  },
  {
   "cell_type": "markdown",
   "id": "b3670052",
   "metadata": {},
   "source": [
    "### AdaBoostClassifier - balanced and scaled data set."
   ]
  },
  {
   "cell_type": "code",
   "execution_count": 25,
   "id": "22efa257",
   "metadata": {},
   "outputs": [],
   "source": [
    "X_train, X_test, y_train, y_test = train_test_split(x_ros, y_ros, random_state=44)\n",
    "# from sklearn.preprocessing import StandardScaler\n",
    "\n",
    "# scaler = StandardScaler().fit(X_train)\n",
    "# X_train_scaled = scaler.transform(X_train)\n",
    "\n",
    "# X_test_scaled = scaler.transform(X_test)"
   ]
  },
  {
   "cell_type": "code",
   "execution_count": 26,
   "id": "f81bc607",
   "metadata": {},
   "outputs": [
    {
     "name": "stdout",
     "output_type": "stream",
     "text": [
      "Training Score: 0.796812953142213\n",
      "Testing Score: 0.7966720467296903\n"
     ]
    }
   ],
   "source": [
    "# clf = AdaBoostClassifier(random_state=1, n_estimators=50, base_estimator=DecisionTreeClassifier(max_depth=2)).fit(X_train_scaled, y_train)\n",
    "# print(f'Training Score: {clf.score(X_train_scaled, y_train)}')\n",
    "# print(f'Testing Score: {clf.score(X_test_scaled, y_test)}')\n",
    "\n",
    "clf = AdaBoostClassifier(random_state=1, n_estimators=50, base_estimator=DecisionTreeClassifier(max_depth=2)).fit(X_train, y_train)\n",
    "print(f'Training Score: {clf.score(X_train, y_train)}')\n",
    "print(f'Testing Score: {clf.score(X_test, y_test)}')"
   ]
  },
  {
   "cell_type": "markdown",
   "id": "a62c5e7c",
   "metadata": {},
   "source": [
    "### RandomForestClassifier - balanced and scaled data set."
   ]
  },
  {
   "cell_type": "code",
   "execution_count": 29,
   "id": "9c71de8b",
   "metadata": {},
   "outputs": [
    {
     "name": "stdout",
     "output_type": "stream",
     "text": [
      "Training Score: 1.0\n",
      "Testing Score: 0.9830912304972715\n"
     ]
    }
   ],
   "source": [
    "# Random Forest Classifier \n",
    "X_train, X_test, y_train, y_test = train_test_split(x_ros, y_ros, random_state=40)\n",
    "# scaler = StandardScaler().fit(X_train)\n",
    "# X_train_scaled = scaler.transform(X_train)\n",
    "# X_test_scaled = scaler.transform(X_test)\n",
    "\n",
    "# clf = RandomForestClassifier(random_state=1, n_estimators=50).fit(X_train_scaled, y_train)\n",
    "# print(f'Training Score: {clf.score(X_train_scaled, y_train)}')\n",
    "# print(f'Testing Score: {clf.score(X_test_scaled, y_test)}')\n",
    "\n",
    "clf = RandomForestClassifier(random_state=40, n_estimators=50).fit(X_train, y_train)\n",
    "print(f'Training Score: {clf.score(X_train, y_train)}')\n",
    "print(f'Testing Score: {clf.score(X_test, y_test)}')"
   ]
  },
  {
   "cell_type": "code",
   "execution_count": 30,
   "id": "ae2b56bd",
   "metadata": {},
   "outputs": [
    {
     "name": "stdout",
     "output_type": "stream",
     "text": [
      "Training Score: 1.0\n",
      "Testing Score: 0.9897010222119745\n"
     ]
    }
   ],
   "source": [
    "# # Random Forest Classifier w/feature selection \n",
    "# X_train, X_test, y_train, y_test = train_test_split(x_ros, y_ros, random_state=1)\n",
    "# scaler = StandardScaler().fit(X_train)\n",
    "# X_train_scaled = scaler.transform(X_train)\n",
    "# X_test_scaled = scaler.transform(X_test)\n",
    "\n",
    "# clf = RandomForestClassifier(random_state=1, n_estimators=50).fit(X_selected_train_scaled, y_train)\n",
    "# print(f'Training Score: {clf.score(X_selected_train_scaled, y_train)}')\n",
    "# print(f'Testing Score: {clf.score(X_selected_test_scaled, y_test)}')"
   ]
  },
  {
   "cell_type": "code",
   "execution_count": 31,
   "id": "07bfaabf",
   "metadata": {},
   "outputs": [
    {
     "name": "stdout",
     "output_type": "stream",
     "text": [
      "[0.10285585 0.0087167  0.03960769 0.03835059 0.03945382 0.03853629\n",
      " 0.0491322  0.04159911 0.04002472 0.06082732 0.04030646 0.06964152\n",
      " 0.03374964 0.04010425 0.03436283 0.05688439 0.03977171 0.03517703\n",
      " 0.03273308 0.04030689 0.04301175 0.04254934 0.00976127 0.00133726\n",
      " 0.00699716 0.0005567  0.00537658 0.00826787]\n"
     ]
    },
    {
     "data": {
      "image/png": "[encoded data removed]",
      "text/plain": [
       "<Figure size 432x288 with 1 Axes>"
      ]
     },
     "metadata": {
      "needs_background": "light"
     },
     "output_type": "display_data"
    }
   ],
   "source": [
    "features = clf.feature_importances_\n",
    "print(features)\n",
    "plt.bar(x = range(len(features)), height=features)\n",
    "plt.show()"
   ]
  },
  {
   "cell_type": "markdown",
   "id": "5e47d527",
   "metadata": {},
   "source": [
    "### ExtraTreesClassifier - balanced and scaled data set."
   ]
  },
  {
   "cell_type": "code",
   "execution_count": 32,
   "id": "52586d32",
   "metadata": {},
   "outputs": [
    {
     "name": "stdout",
     "output_type": "stream",
     "text": [
      "Training Score: 1.0\n",
      "Testing Score: 0.9917761893782184\n"
     ]
    }
   ],
   "source": [
    "# ExtraTrees Classifier\n",
    "from sklearn.ensemble import ExtraTreesClassifier\n",
    "X_train, X_test, y_train, y_test = train_test_split(x_ros, y_ros, random_state=45)\n",
    "# scaler = StandardScaler().fit(X_train)\n",
    "# X_train_scaled = scaler.transform(X_train)\n",
    "# X_test_scaled = scaler.transform(X_test)\n",
    "\n",
    "# clf = ExtraTreesClassifier(random_state=1, n_estimators=50).fit(X_train_scaled, y_train)\n",
    "# print(f'Training Score: {clf.score(X_train_scaled, y_train)}')\n",
    "# print(f'Testing Score: {clf.score(X_test_scaled, y_test)}')\n",
    "\n",
    "clf = ExtraTreesClassifier(random_state=45, n_estimators=50).fit(X_train, y_train)\n",
    "print(f'Training Score: {clf.score(X_train, y_train)}')\n",
    "print(f'Testing Score: {clf.score(X_test, y_test)}')"
   ]
  },
  {
   "cell_type": "code",
   "execution_count": 34,
   "id": "c0ad60f3",
   "metadata": {},
   "outputs": [
    {
     "name": "stdout",
     "output_type": "stream",
     "text": [
      "Test Acc: 0.992\n",
      "[[12869   214]\n",
      " [    0 12939]]\n",
      "              precision    recall  f1-score   support\n",
      "\n",
      "           0       1.00      0.98      0.99     13083\n",
      "           1       0.98      1.00      0.99     12939\n",
      "\n",
      "    accuracy                           0.99     26022\n",
      "   macro avg       0.99      0.99      0.99     26022\n",
      "weighted avg       0.99      0.99      0.99     26022\n",
      "\n"
     ]
    }
   ],
   "source": [
    "from sklearn.metrics import confusion_matrix, classification_report\n",
    "\n",
    "print('Test Acc: %.3f' % clf.score(X_test, y_test))\n",
    "\n",
    "y_true = y_test\n",
    "y_pred = clf.predict(X_test)\n",
    "\n",
    "print(confusion_matrix(y_true, y_pred))\n",
    "\n",
    "print(classification_report(y_true, y_pred))\n"
   ]
  },
  {
   "cell_type": "markdown",
   "id": "316530f8",
   "metadata": {},
   "source": [
    "### KNN - balanced and scaled data set."
   ]
  },
  {
   "cell_type": "code",
   "execution_count": 33,
   "id": "adbd57d6",
   "metadata": {},
   "outputs": [
    {
     "name": "stdout",
     "output_type": "stream",
     "text": [
      "k: 1, Train/Test Score: 1.000/0.974\n",
      "k: 3, Train/Test Score: 0.974/0.951\n",
      "k: 5, Train/Test Score: 0.952/0.930\n",
      "k: 7, Train/Test Score: 0.932/0.911\n",
      "k: 9, Train/Test Score: 0.914/0.891\n"
     ]
    },
    {
     "data": {
      "image/png": "[encoded data removed]",
      "text/plain": [
       "<Figure size 432x288 with 1 Axes>"
      ]
     },
     "metadata": {
      "needs_background": "light"
     },
     "output_type": "display_data"
    }
   ],
   "source": [
    "from sklearn.neighbors import KNeighborsClassifier\n",
    "\n",
    "train_scores = []\n",
    "test_scores = []\n",
    "for k in range(1, 10, 2):\n",
    "    knn = KNeighborsClassifier(n_neighbors=k)\n",
    "    knn.fit(X_train_scaled, y_train)\n",
    "    train_score = knn.score(X_train_scaled, y_train)\n",
    "    test_score = knn.score(X_test_scaled, y_test)\n",
    "    train_scores.append(train_score)\n",
    "    test_scores.append(test_score)\n",
    "    print(f\"k: {k}, Train/Test Score: {train_score:.3f}/{test_score:.3f}\")\n",
    "    \n",
    "    \n",
    "plt.plot(range(1, 10, 2), train_scores, marker='o')\n",
    "plt.plot(range(1, 10, 2), test_scores, marker=\"x\")\n",
    "plt.xlabel(\"k neighbors\")\n",
    "plt.ylabel(\"Testing accuracy Score\")\n",
    "plt.show()"
   ]
  },
  {
   "cell_type": "code",
   "execution_count": 34,
   "id": "155e7bb2",
   "metadata": {},
   "outputs": [
    {
     "name": "stdout",
     "output_type": "stream",
     "text": [
      "k=3 Test Acc: 0.951\n",
      "              precision    recall  f1-score   support\n",
      "\n",
      "           0       1.00      0.90      0.95     12967\n",
      "           1       0.91      1.00      0.95     13055\n",
      "\n",
      "    accuracy                           0.95     26022\n",
      "   macro avg       0.95      0.95      0.95     26022\n",
      "weighted avg       0.95      0.95      0.95     26022\n",
      "\n"
     ]
    }
   ],
   "source": [
    "from sklearn.metrics import confusion_matrix, classification_report\n",
    "knn = KNeighborsClassifier(n_neighbors=3)\n",
    "knn.fit(X_train_scaled, y_train)\n",
    "print('k=3 Test Acc: %.3f' % knn.score(X_test_scaled, y_test))\n",
    "\n",
    "y_true = y_test\n",
    "y_pred = knn.predict(X_test_scaled)\n",
    "\n",
    "confusion_matrix(y_true, y_pred)\n",
    "\n",
    "print(classification_report(y_true, y_pred))\n"
   ]
  },
  {
   "cell_type": "code",
   "execution_count": null,
   "id": "670ee42c",
   "metadata": {},
   "outputs": [],
   "source": []
  },
  {
   "cell_type": "code",
   "execution_count": null,
   "id": "cc06c527",
   "metadata": {},
   "outputs": [],
   "source": []
  },
  {
   "cell_type": "code",
   "execution_count": null,
   "id": "eaaa7993",
   "metadata": {},
   "outputs": [],
   "source": []
  },
  {
   "cell_type": "code",
   "execution_count": null,
   "id": "2a2869f3",
   "metadata": {},
   "outputs": [],
   "source": []
  },
  {
   "cell_type": "code",
   "execution_count": null,
   "id": "5a062c88",
   "metadata": {},
   "outputs": [],
   "source": [
    "\n"
   ]
  },
  {
   "cell_type": "code",
   "execution_count": null,
   "id": "56c63322",
   "metadata": {},
   "outputs": [],
   "source": []
  },
  {
   "cell_type": "code",
   "execution_count": null,
   "id": "182e73c7",
   "metadata": {},
   "outputs": [],
   "source": []
  },
  {
   "cell_type": "code",
   "execution_count": null,
   "id": "e8178e3e",
   "metadata": {},
   "outputs": [],
   "source": []
  },
  {
   "cell_type": "code",
   "execution_count": null,
   "id": "d3ef6601",
   "metadata": {},
   "outputs": [],
   "source": []
  },
  {
   "cell_type": "code",
   "execution_count": null,
   "id": "76ab7a4a",
   "metadata": {},
   "outputs": [],
   "source": []
  },
  {
   "cell_type": "code",
   "execution_count": null,
   "id": "9b4dd9c9",
   "metadata": {},
   "outputs": [],
   "source": []
  },
  {
   "cell_type": "code",
   "execution_count": null,
   "id": "c68885a4",
   "metadata": {},
   "outputs": [],
   "source": []
  },
  {
   "cell_type": "code",
   "execution_count": null,
   "id": "c2481a3b",
   "metadata": {},
   "outputs": [],
   "source": []
  },
  {
   "cell_type": "code",
   "execution_count": null,
   "id": "26ad2cb2",
   "metadata": {},
   "outputs": [],
   "source": []
  },
  {
   "cell_type": "code",
   "execution_count": null,
   "id": "cc827025",
   "metadata": {},
   "outputs": [],
   "source": []
  },
  {
   "cell_type": "code",
   "execution_count": null,
   "id": "c7c76384",
   "metadata": {},
   "outputs": [],
   "source": []
  },
  {
   "cell_type": "code",
   "execution_count": null,
   "id": "4e804e18",
   "metadata": {},
   "outputs": [],
   "source": []
  },
  {
   "cell_type": "code",
   "execution_count": null,
   "id": "0e6ec48f",
   "metadata": {},
   "outputs": [],
   "source": []
  },
  {
   "cell_type": "code",
   "execution_count": null,
   "id": "4ed2ba91",
   "metadata": {},
   "outputs": [],
   "source": []
  },
  {
   "cell_type": "code",
   "execution_count": null,
   "id": "a3c7b436",
   "metadata": {},
   "outputs": [],
   "source": []
  },
  {
   "cell_type": "code",
   "execution_count": null,
   "id": "bc9103a0",
   "metadata": {},
   "outputs": [],
   "source": []
  },
  {
   "cell_type": "code",
   "execution_count": null,
   "id": "82115494",
   "metadata": {},
   "outputs": [],
   "source": []
  }
 ],
 "metadata": {
  "kernelspec": {
   "display_name": "Python [conda env:PythonData38] *",
   "language": "python",
   "name": "conda-env-PythonData38-py"
  },
  "language_info": {
   "codemirror_mode": {
    "name": "ipython",
    "version": 3
   },
   "file_extension": ".py",
   "mimetype": "text/x-python",
   "name": "python",
   "nbconvert_exporter": "python",
   "pygments_lexer": "ipython3",
   "version": "3.8.12"
  }
 },
 "nbformat": 4,
 "nbformat_minor": 5
}

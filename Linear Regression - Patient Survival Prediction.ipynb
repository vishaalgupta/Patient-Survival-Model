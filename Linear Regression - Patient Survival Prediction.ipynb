{
 "cells": [
  {
   "cell_type": "markdown",
   "id": "200cacda",
   "metadata": {},
   "source": [
    "# Summary\n",
    "## Logistic Regression\n",
    "    With imbalanced data set: \n",
    "    Training Data Score: 0.9184328235872696\n",
    "    Testing Data Score: 0.9196993115076577\n",
    "    \n",
    "    Balanced data set - oversampling:\n",
    "    Training Data Score: 0.7621371659877539\n",
    "    Testing Data Score: 0.7653523941280455\n",
    "    \n",
    "    Balanced and scaled data set:\n",
    "    Training Data Score: 0.7874234621986524\n",
    "    Testing Data Score: 0.7897548228422104\n",
    "    \n",
    "    Scaled data set with feature selection:\n",
    "    Training Score: 0.7771372940844926\n",
    "    Testing Score: 0.7766505264775959\n",
    "    \n",
    "## Linear Regression\n",
    "    With imbalanced data set:\n",
    "    Training Score: 0.2191701004944563\n",
    "    Testing Score: 0.21709164708500517\n",
    "    \n",
    "    Balanced data set - oversampling:\n",
    "    Training Score: 0.388831133678463\n",
    "    Testing Score: 0.39622325145411474\n",
    "    \n",
    "    Balanced and scaled data set:\n",
    "    Training Score: 0.389331570456394\n",
    "    Testing Score: 0.394187701105674\n",
    "    \n",
    "## AdaBoost Classifier\n",
    "    Balanced and scaled data set:\n",
    "    Training Score: 0.8103527784182615\n",
    "    Testing Score: 0.808085466144032"
   ]
  },
  {
   "cell_type": "code",
   "execution_count": 119,
   "id": "1168bba9",
   "metadata": {},
   "outputs": [],
   "source": [
    "%matplotlib inline\n",
    "import pandas as pd\n",
    "from sklearn.model_selection import train_test_split\n",
    "from collections import Counter\n",
    "import matplotlib.pyplot as plt\n",
    "from matplotlib import pyplot as plt\n",
    "from sklearn.datasets import make_classification\n",
    "import numpy as np\n",
    "from sklearn.ensemble import RandomForestClassifier\n",
    "from sklearn.tree import DecisionTreeClassifier\n",
    "from sklearn.linear_model import LogisticRegression\n",
    "from sklearn.model_selection import train_test_split\n",
    "from sklearn.preprocessing import StandardScaler\n",
    "from sklearn.feature_selection import SelectFromModel\n",
    "from sklearn.ensemble import AdaBoostClassifier\n",
    "\n",
    "survival_df = pd.read_csv(\"../Patient-Survival-Model/Resources/cleaned_data_survival_prediction.csv\")"
   ]
  },
  {
   "cell_type": "code",
   "execution_count": 21,
   "id": "93445570",
   "metadata": {},
   "outputs": [
    {
     "data": {
      "text/plain": [
       "Index(['hospital_id', 'age', 'bmi', 'elective_surgery', 'ethnicity', 'gender',\n",
       "       'height', 'icu_admit_source', 'icu_stay_type', 'icu_type',\n",
       "       'pre_icu_los_days', 'weight', 'apache_2_diagnosis',\n",
       "       'apache_3j_diagnosis', 'apache_post_operative', 'arf_apache',\n",
       "       'gcs_eyes_apache', 'gcs_motor_apache', 'gcs_unable_apache',\n",
       "       'gcs_verbal_apache', 'heart_rate_apache', 'intubated_apache',\n",
       "       'map_apache', 'resprate_apache', 'temp_apache', 'ventilated_apache',\n",
       "       'd1_diasbp_max', 'd1_diasbp_min', 'd1_diasbp_noninvasive_max',\n",
       "       'd1_diasbp_noninvasive_min', 'd1_heartrate_max', 'd1_heartrate_min',\n",
       "       'd1_mbp_max', 'd1_mbp_min', 'd1_mbp_noninvasive_max',\n",
       "       'd1_mbp_noninvasive_min', 'd1_resprate_max', 'd1_resprate_min',\n",
       "       'd1_spo2_max', 'd1_spo2_min', 'd1_sysbp_max', 'd1_sysbp_min',\n",
       "       'd1_sysbp_noninvasive_max', 'd1_sysbp_noninvasive_min', 'd1_temp_max',\n",
       "       'd1_temp_min', 'h1_diasbp_max', 'h1_diasbp_min',\n",
       "       'h1_diasbp_noninvasive_max', 'h1_diasbp_noninvasive_min',\n",
       "       'h1_heartrate_max', 'h1_heartrate_min', 'h1_mbp_max', 'h1_mbp_min',\n",
       "       'h1_mbp_noninvasive_max', 'h1_mbp_noninvasive_min', 'h1_resprate_max',\n",
       "       'h1_resprate_min', 'h1_spo2_max', 'h1_spo2_min', 'h1_sysbp_max',\n",
       "       'h1_sysbp_min', 'h1_sysbp_noninvasive_max', 'h1_sysbp_noninvasive_min',\n",
       "       'd1_glucose_max', 'd1_glucose_min', 'd1_potassium_max',\n",
       "       'd1_potassium_min', 'apache_4a_hospital_death_prob',\n",
       "       'apache_4a_icu_death_prob', 'aids', 'cirrhosis', 'diabetes_mellitus',\n",
       "       'hepatic_failure', 'immunosuppression', 'leukemia', 'lymphoma',\n",
       "       'solid_tumor_with_metastasis', 'apache_3j_bodysystem',\n",
       "       'apache_2_bodysystem', 'hospital_death'],\n",
       "      dtype='object')"
      ]
     },
     "execution_count": 21,
     "metadata": {},
     "output_type": "execute_result"
    }
   ],
   "source": [
    "survival_df.columns"
   ]
  },
  {
   "cell_type": "code",
   "execution_count": 22,
   "id": "70e70a05",
   "metadata": {},
   "outputs": [
    {
     "data": {
      "text/plain": [
       "0    52044\n",
       "1     4891\n",
       "Name: hospital_death, dtype: int64"
      ]
     },
     "execution_count": 22,
     "metadata": {},
     "output_type": "execute_result"
    }
   ],
   "source": [
    "survival_df['hospital_death'].value_counts()"
   ]
  },
  {
   "cell_type": "code",
   "execution_count": 23,
   "id": "a97adcb5",
   "metadata": {},
   "outputs": [
    {
     "data": {
      "text/plain": [
       "91.40950206375692"
      ]
     },
     "execution_count": 23,
     "metadata": {},
     "output_type": "execute_result"
    }
   ],
   "source": [
    "percent_survived = 52044/56935 * 100\n",
    "percent_survived"
   ]
  },
  {
   "cell_type": "code",
   "execution_count": 79,
   "id": "b7e4681c",
   "metadata": {},
   "outputs": [],
   "source": [
    "X = survival_df.drop('hospital_death', axis=1)\n",
    "y = survival_df['hospital_death']"
   ]
  },
  {
   "cell_type": "code",
   "execution_count": 80,
   "id": "044495d8",
   "metadata": {},
   "outputs": [],
   "source": [
    "X = pd.get_dummies(X)"
   ]
  },
  {
   "cell_type": "markdown",
   "id": "07aac8a7",
   "metadata": {},
   "source": [
    "### Logistic Regression with imbalanced data set "
   ]
  },
  {
   "cell_type": "code",
   "execution_count": 71,
   "id": "6b438851",
   "metadata": {},
   "outputs": [
    {
     "name": "stdout",
     "output_type": "stream",
     "text": [
      "Training Data Score: 0.9184328235872696\n",
      "Testing Data Score: 0.9196993115076577\n"
     ]
    },
    {
     "name": "stderr",
     "output_type": "stream",
     "text": [
      "/Users/lindseyvalput/opt/anaconda3/envs/PythonData38/lib/python3.8/site-packages/sklearn/linear_model/_logistic.py:444: ConvergenceWarning: lbfgs failed to converge (status=1):\n",
      "STOP: TOTAL NO. of ITERATIONS REACHED LIMIT.\n",
      "\n",
      "Increase the number of iterations (max_iter) or scale the data as shown in:\n",
      "    https://scikit-learn.org/stable/modules/preprocessing.html\n",
      "Please also refer to the documentation for alternative solver options:\n",
      "    https://scikit-learn.org/stable/modules/linear_model.html#logistic-regression\n",
      "  n_iter_i = _check_optimize_result(\n"
     ]
    }
   ],
   "source": [
    "X_train, X_test, y_train, y_test = train_test_split(X, y, random_state=1)\n",
    "\n",
    "from sklearn.linear_model import LogisticRegression\n",
    "classifier = LogisticRegression()\n",
    "\n",
    "\n",
    "classifier.fit(X_train, y_train)\n",
    "\n",
    "print(f\"Training Data Score: {classifier.score(X_train, y_train)}\")\n",
    "print(f\"Testing Data Score: {classifier.score(X_test, y_test)}\")\n"
   ]
  },
  {
   "cell_type": "code",
   "execution_count": 72,
   "id": "fd22f0a8",
   "metadata": {},
   "outputs": [
    {
     "name": "stdout",
     "output_type": "stream",
     "text": [
      "              precision    recall  f1-score   support\n",
      "\n",
      "           0       0.93      0.99      0.96     13035\n",
      "           1       0.60      0.14      0.23      1199\n",
      "\n",
      "    accuracy                           0.92     14234\n",
      "   macro avg       0.76      0.57      0.60     14234\n",
      "weighted avg       0.90      0.92      0.90     14234\n",
      "\n"
     ]
    }
   ],
   "source": [
    "from sklearn.metrics import confusion_matrix, classification_report\n",
    "\n",
    "y_true = y_test\n",
    "y_pred = classifier.predict(X_test)\n",
    "confusion_matrix(y_true, y_pred)\n",
    "confusion_matrix(y, classifier.predict(X))\n",
    "print(classification_report(y_true, y_pred))"
   ]
  },
  {
   "cell_type": "markdown",
   "id": "6a796425",
   "metadata": {},
   "source": [
    "### Balance the Data Set - OVERSAMPLING"
   ]
  },
  {
   "cell_type": "code",
   "execution_count": 73,
   "id": "e090fd50",
   "metadata": {},
   "outputs": [
    {
     "name": "stdout",
     "output_type": "stream",
     "text": [
      "Original dataset shape Counter({0: 52044, 1: 4891})\n",
      "Resample dataset shape Counter({0: 52044, 1: 52044})\n"
     ]
    }
   ],
   "source": [
    "#Balance Data - oversampling\n",
    "from imblearn.over_sampling import RandomOverSampler\n",
    "\n",
    "ros = RandomOverSampler(random_state=42)\n",
    "\n",
    "x_ros, y_ros = ros.fit_resample(X, y)\n",
    "\n",
    "print('Original dataset shape', Counter(y))\n",
    "print('Resample dataset shape', Counter(y_ros))\n"
   ]
  },
  {
   "cell_type": "code",
   "execution_count": 74,
   "id": "ca9bdbb3",
   "metadata": {},
   "outputs": [],
   "source": [
    "X_train, X_test, y_train, y_test = train_test_split(x_ros, y_ros, random_state=1)\n",
    "from sklearn.preprocessing import StandardScaler\n",
    "\n",
    "scaler = StandardScaler().fit(X_train)\n",
    "X_train_scaled = scaler.transform(X_train)\n",
    "\n",
    "X_test_scaled = scaler.transform(X_test)\n"
   ]
  },
  {
   "cell_type": "markdown",
   "id": "60323893",
   "metadata": {},
   "source": [
    "### Logistic Regression - balanced data set & scaled."
   ]
  },
  {
   "cell_type": "code",
   "execution_count": 75,
   "id": "7274a2c0",
   "metadata": {},
   "outputs": [
    {
     "name": "stdout",
     "output_type": "stream",
     "text": [
      "Training Data Score: 0.7874234621986524\n",
      "Testing Data Score: 0.7897548228422104\n"
     ]
    }
   ],
   "source": [
    "from sklearn.linear_model import LogisticRegression\n",
    "classifier = LogisticRegression(max_iter=1000)\n",
    "\n",
    "classifier.fit(X_train_scaled, y_train)\n",
    "\n",
    "print(f\"Training Data Score: {classifier.score(X_train_scaled, y_train)}\")\n",
    "print(f\"Testing Data Score: {classifier.score(X_test_scaled, y_test)}\")"
   ]
  },
  {
   "cell_type": "code",
   "execution_count": 76,
   "id": "2d08101b",
   "metadata": {},
   "outputs": [
    {
     "name": "stdout",
     "output_type": "stream",
     "text": [
      "              precision    recall  f1-score   support\n",
      "\n",
      "           0       0.78      0.81      0.79     12967\n",
      "           1       0.80      0.77      0.79     13055\n",
      "\n",
      "    accuracy                           0.79     26022\n",
      "   macro avg       0.79      0.79      0.79     26022\n",
      "weighted avg       0.79      0.79      0.79     26022\n",
      "\n"
     ]
    },
    {
     "name": "stderr",
     "output_type": "stream",
     "text": [
      "/Users/lindseyvalput/opt/anaconda3/envs/PythonData38/lib/python3.8/site-packages/sklearn/base.py:443: UserWarning: X has feature names, but LogisticRegression was fitted without feature names\n",
      "  warnings.warn(\n"
     ]
    }
   ],
   "source": [
    "y_true = y_test\n",
    "y_pred = classifier.predict(X_test_scaled)\n",
    "confusion_matrix(y_true, y_pred)\n",
    "confusion_matrix(y_ros, classifier.predict(x_ros))\n",
    "print(classification_report(y_true, y_pred))"
   ]
  },
  {
   "cell_type": "markdown",
   "id": "05710f1b",
   "metadata": {},
   "source": [
    "### Logistic Regression - balanced data set only."
   ]
  },
  {
   "cell_type": "code",
   "execution_count": 77,
   "id": "5da11ae4",
   "metadata": {},
   "outputs": [
    {
     "name": "stdout",
     "output_type": "stream",
     "text": [
      "Training Data Score: 0.7621371659877539\n",
      "Testing Data Score: 0.7653523941280455\n"
     ]
    },
    {
     "name": "stderr",
     "output_type": "stream",
     "text": [
      "/Users/lindseyvalput/opt/anaconda3/envs/PythonData38/lib/python3.8/site-packages/sklearn/linear_model/_logistic.py:444: ConvergenceWarning: lbfgs failed to converge (status=1):\n",
      "STOP: TOTAL NO. of ITERATIONS REACHED LIMIT.\n",
      "\n",
      "Increase the number of iterations (max_iter) or scale the data as shown in:\n",
      "    https://scikit-learn.org/stable/modules/preprocessing.html\n",
      "Please also refer to the documentation for alternative solver options:\n",
      "    https://scikit-learn.org/stable/modules/linear_model.html#logistic-regression\n",
      "  n_iter_i = _check_optimize_result(\n"
     ]
    }
   ],
   "source": [
    "X_train, X_test, y_train, y_test = train_test_split(x_ros, y_ros, random_state=1)\n",
    "from sklearn.linear_model import LogisticRegression\n",
    "classifier = LogisticRegression()\n",
    "\n",
    "\n",
    "classifier.fit(X_train, y_train)\n",
    "\n",
    "print(f\"Training Data Score: {classifier.score(X_train, y_train)}\")\n",
    "print(f\"Testing Data Score: {classifier.score(X_test, y_test)}\")"
   ]
  },
  {
   "cell_type": "code",
   "execution_count": 78,
   "id": "53e0c0a1",
   "metadata": {},
   "outputs": [
    {
     "name": "stdout",
     "output_type": "stream",
     "text": [
      "              precision    recall  f1-score   support\n",
      "\n",
      "           0       0.76      0.78      0.77     12967\n",
      "           1       0.77      0.75      0.76     13055\n",
      "\n",
      "    accuracy                           0.77     26022\n",
      "   macro avg       0.77      0.77      0.77     26022\n",
      "weighted avg       0.77      0.77      0.77     26022\n",
      "\n"
     ]
    }
   ],
   "source": [
    "y_true = y_test\n",
    "y_pred = classifier.predict(X_test)\n",
    "confusion_matrix(y_true, y_pred)\n",
    "confusion_matrix(y_ros, classifier.predict(x_ros))\n",
    "print(classification_report(y_true, y_pred))"
   ]
  },
  {
   "cell_type": "markdown",
   "id": "1eefe892",
   "metadata": {},
   "source": [
    "### Linear Regression with imbalanced data set"
   ]
  },
  {
   "cell_type": "code",
   "execution_count": 82,
   "id": "d1e301ee",
   "metadata": {},
   "outputs": [
    {
     "name": "stdout",
     "output_type": "stream",
     "text": [
      "Training Score: 0.2191701004944563\n",
      "Testing Score: 0.21709164708500517\n"
     ]
    }
   ],
   "source": [
    "#Linear Regression Model WITHOUT balancing the data\n",
    "from sklearn.model_selection import train_test_split\n",
    "X_train, X_test, y_train, y_test = train_test_split(X, y, random_state=1)\n",
    "\n",
    "from sklearn.linear_model import LinearRegression\n",
    "model = LinearRegression()\n",
    "\n",
    "model.fit(X_train, y_train)\n",
    "training_score = model.score(X_train, y_train)\n",
    "testing_score = model.score(X_test, y_test)\n",
    "\n",
    "print(f\"Training Score: {training_score}\")\n",
    "print(f\"Testing Score: {testing_score}\")"
   ]
  },
  {
   "cell_type": "markdown",
   "id": "b5d77a09",
   "metadata": {},
   "source": [
    "### Linear Regression - balanced data set & scaled."
   ]
  },
  {
   "cell_type": "code",
   "execution_count": 91,
   "id": "58e6b440",
   "metadata": {},
   "outputs": [],
   "source": [
    "X_train, X_test, y_train, y_test = train_test_split(x_ros, y_ros, random_state=1)\n",
    "from sklearn.preprocessing import StandardScaler\n",
    "\n",
    "scaler = StandardScaler().fit(X_train)\n",
    "X_train_scaled = scaler.transform(X_train)\n",
    "\n",
    "X_test_scaled = scaler.transform(X_test)"
   ]
  },
  {
   "cell_type": "code",
   "execution_count": 92,
   "id": "c00bd425",
   "metadata": {},
   "outputs": [
    {
     "name": "stdout",
     "output_type": "stream",
     "text": [
      "Training Score: 0.389331570456394\n",
      "Testing Score: 0.394187701105674\n"
     ]
    }
   ],
   "source": [
    "from sklearn.linear_model import LinearRegression\n",
    "model = LinearRegression()\n",
    "\n",
    "model.fit(X_train_scaled, y_train)\n",
    "training_score = model.score(X_train_scaled, y_train)\n",
    "testing_score = model.score(X_test_scaled, y_test)\n",
    "\n",
    "print(f\"Training Score: {training_score}\")\n",
    "print(f\"Testing Score: {testing_score}\")"
   ]
  },
  {
   "cell_type": "markdown",
   "id": "e5ecae40",
   "metadata": {},
   "source": [
    "### Linear Regression - balanced data set only."
   ]
  },
  {
   "cell_type": "code",
   "execution_count": 83,
   "id": "cb451cbf",
   "metadata": {},
   "outputs": [
    {
     "name": "stdout",
     "output_type": "stream",
     "text": [
      "Training Score: 0.388831133678463\n",
      "Testing Score: 0.39622325145411474\n"
     ]
    }
   ],
   "source": [
    "#Linear Regression Model WITH balancing the data by Oversampling\n",
    "from sklearn.model_selection import train_test_split\n",
    "X_train, X_test, y_train, y_test = train_test_split(x_ros, y_ros, random_state=42)\n",
    "\n",
    "from sklearn.linear_model import LinearRegression\n",
    "model = LinearRegression()\n",
    "\n",
    "model.fit(X_train, y_train)\n",
    "training_score = model.score(X_train, y_train)\n",
    "testing_score = model.score(X_test, y_test)\n",
    "\n",
    "print(f\"Training Score: {training_score}\")\n",
    "print(f\"Testing Score: {testing_score}\")\n"
   ]
  },
  {
   "cell_type": "markdown",
   "id": "a0d322cc",
   "metadata": {},
   "source": [
    "### Logistic Regression with feature selection"
   ]
  },
  {
   "cell_type": "code",
   "execution_count": 102,
   "id": "c09d837a",
   "metadata": {},
   "outputs": [
    {
     "data": {
      "text/plain": [
       "array([ True,  True,  True, False,  True,  True,  True,  True,  True,\n",
       "       False, False,  True,  True, False,  True,  True, False,  True,\n",
       "        True,  True,  True,  True,  True,  True,  True,  True,  True,\n",
       "        True,  True,  True,  True,  True,  True, False,  True,  True,\n",
       "        True,  True,  True,  True,  True,  True,  True,  True,  True,\n",
       "        True,  True,  True,  True,  True,  True,  True,  True, False,\n",
       "        True,  True,  True,  True,  True,  True,  True,  True,  True,\n",
       "        True,  True, False, False, False, False, False, False, False,\n",
       "       False, False, False, False, False, False, False, False, False,\n",
       "       False, False, False, False, False, False, False, False, False,\n",
       "       False, False, False, False, False, False, False, False, False,\n",
       "       False, False, False, False, False, False, False, False, False,\n",
       "       False, False, False, False, False, False, False, False, False,\n",
       "       False])"
      ]
     },
     "execution_count": 102,
     "metadata": {},
     "output_type": "execute_result"
    }
   ],
   "source": [
    "sel = SelectFromModel(clf)\n",
    "sel.fit(X_train_scaled, y_train)\n",
    "sel.get_support()"
   ]
  },
  {
   "cell_type": "code",
   "execution_count": 107,
   "id": "7bffb900",
   "metadata": {},
   "outputs": [
    {
     "name": "stderr",
     "output_type": "stream",
     "text": [
      "/Users/lindseyvalput/opt/anaconda3/envs/PythonData38/lib/python3.8/site-packages/sklearn/base.py:443: UserWarning: X has feature names, but SelectFromModel was fitted without feature names\n",
      "  warnings.warn(\n"
     ]
    }
   ],
   "source": [
    "X_selected_train, X_selected_test, y_train, y_test = train_test_split(sel.transform(x_ros), y_ros, random_state=1)\n",
    "scaler = StandardScaler().fit(X_selected_train)\n",
    "X_selected_train_scaled = scaler.transform(X_selected_train)\n",
    "X_selected_test_scaled = scaler.transform(X_selected_test)\n"
   ]
  },
  {
   "cell_type": "code",
   "execution_count": 108,
   "id": "07bf9e05",
   "metadata": {},
   "outputs": [
    {
     "name": "stdout",
     "output_type": "stream",
     "text": [
      "Training Score: 0.7771372940844926\n",
      "Testing Score: 0.7766505264775959\n"
     ]
    },
    {
     "name": "stderr",
     "output_type": "stream",
     "text": [
      "/Users/lindseyvalput/opt/anaconda3/envs/PythonData38/lib/python3.8/site-packages/sklearn/linear_model/_logistic.py:444: ConvergenceWarning: lbfgs failed to converge (status=1):\n",
      "STOP: TOTAL NO. of ITERATIONS REACHED LIMIT.\n",
      "\n",
      "Increase the number of iterations (max_iter) or scale the data as shown in:\n",
      "    https://scikit-learn.org/stable/modules/preprocessing.html\n",
      "Please also refer to the documentation for alternative solver options:\n",
      "    https://scikit-learn.org/stable/modules/linear_model.html#logistic-regression\n",
      "  n_iter_i = _check_optimize_result(\n"
     ]
    }
   ],
   "source": [
    "clf = LogisticRegression()\n",
    "clf.fit(X_selected_train_scaled, y_train)\n",
    "print(f'Training Score: {clf.score(X_selected_train_scaled, y_train)}')\n",
    "print(f'Testing Score: {clf.score(X_selected_test_scaled, y_test)}')\n"
   ]
  },
  {
   "cell_type": "markdown",
   "id": "a737528c",
   "metadata": {},
   "source": [
    "### AdaBoostClassifier - balanced and scaled data set."
   ]
  },
  {
   "cell_type": "code",
   "execution_count": 117,
   "id": "22efa257",
   "metadata": {},
   "outputs": [],
   "source": [
    "X_train, X_test, y_train, y_test = train_test_split(x_ros, y_ros, random_state=1)\n",
    "from sklearn.preprocessing import StandardScaler\n",
    "\n",
    "scaler = StandardScaler().fit(X_train)\n",
    "X_train_scaled = scaler.transform(X_train)\n",
    "\n",
    "X_test_scaled = scaler.transform(X_test)"
   ]
  },
  {
   "cell_type": "code",
   "execution_count": 118,
   "id": "f81bc607",
   "metadata": {},
   "outputs": [
    {
     "name": "stdout",
     "output_type": "stream",
     "text": [
      "Training Score: 0.8103527784182615\n",
      "Testing Score: 0.808085466144032\n"
     ]
    }
   ],
   "source": [
    "clf = AdaBoostClassifier(random_state=1, n_estimators=50, base_estimator=DecisionTreeClassifier(max_depth=2)).fit(X_train_scaled, y_train)\n",
    "print(f'Training Score: {clf.score(X_train_scaled, y_train)}')\n",
    "print(f'Testing Score: {clf.score(X_test_scaled, y_test)}')"
   ]
  },
  {
   "cell_type": "code",
   "execution_count": null,
   "id": "9202e603",
   "metadata": {},
   "outputs": [],
   "source": []
  },
  {
   "cell_type": "code",
   "execution_count": 97,
   "id": "9c71de8b",
   "metadata": {},
   "outputs": [],
   "source": []
  },
  {
   "cell_type": "code",
   "execution_count": 120,
   "id": "ae2b56bd",
   "metadata": {},
   "outputs": [],
   "source": [
    "clf = RandomForestClassifier(random_state=1, n_estimators=500)"
   ]
  },
  {
   "cell_type": "code",
   "execution_count": 121,
   "id": "155e7bb2",
   "metadata": {},
   "outputs": [
    {
     "name": "stdout",
     "output_type": "stream",
     "text": [
      "Training Score: 1.0\n",
      "Testing Score: 0.9882022903696872\n"
     ]
    }
   ],
   "source": [
    "clf.fit(X_train_scaled, y_train)\n",
    "print(f'Training Score: {clf.score(X_train_scaled, y_train)}')\n",
    "print(f'Testing Score: {clf.score(X_test_scaled, y_test)}')"
   ]
  },
  {
   "cell_type": "code",
   "execution_count": 111,
   "id": "7a337559",
   "metadata": {},
   "outputs": [
    {
     "name": "stderr",
     "output_type": "stream",
     "text": [
      "/Users/lindseyvalput/opt/anaconda3/envs/PythonData38/lib/python3.8/site-packages/sklearn/base.py:450: UserWarning: X does not have valid feature names, but LogisticRegression was fitted with feature names\n",
      "  warnings.warn(\n"
     ]
    },
    {
     "name": "stdout",
     "output_type": "stream",
     "text": [
      "              precision    recall  f1-score   support\n",
      "\n",
      "           0       0.67      0.82      0.73     12967\n",
      "           1       0.77      0.60      0.67     13055\n",
      "\n",
      "    accuracy                           0.71     26022\n",
      "   macro avg       0.72      0.71      0.70     26022\n",
      "weighted avg       0.72      0.71      0.70     26022\n",
      "\n"
     ]
    }
   ],
   "source": [
    "y_true = y_test\n",
    "y_pred = classifier.predict(X_test_scaled)\n",
    "confusion_matrix(y_true, y_pred)\n",
    "confusion_matrix(y_ros, classifier.predict(x_ros))\n",
    "print(classification_report(y_true, y_pred))"
   ]
  },
  {
   "cell_type": "code",
   "execution_count": 101,
   "id": "adbd57d6",
   "metadata": {},
   "outputs": [
    {
     "name": "stdout",
     "output_type": "stream",
     "text": [
      "[1.08135514e-02 1.83863328e-02 1.39016510e-02 2.45335978e-03\n",
      " 1.03899905e-02 1.46269178e-02 1.28347179e-02 1.34494358e-02\n",
      " 1.84680263e-02 1.64378116e-03 8.66237532e-04 1.52849126e-02\n",
      " 1.92577017e-02 0.00000000e+00 1.93362663e-02 1.27287581e-02\n",
      " 7.03326581e-03 1.18208560e-02 1.26955643e-02 1.44435500e-02\n",
      " 2.39098175e-02 9.38042455e-03 1.24331372e-02 9.34337482e-03\n",
      " 1.28352348e-02 1.71339707e-02 1.28156162e-02 9.09602734e-03\n",
      " 1.65968066e-02 9.07475067e-03 1.66331349e-02 1.53759600e-02\n",
      " 1.07276431e-02 2.89573107e-03 2.09493595e-02 9.80349310e-03\n",
      " 2.34337544e-02 9.83534856e-03 2.18538534e-02 1.21206729e-02\n",
      " 1.61894927e-02 9.07527982e-03 9.57696300e-03 9.01548734e-03\n",
      " 9.67833916e-03 1.13058774e-02 1.10086556e-02 8.87317159e-03\n",
      " 1.02937548e-02 8.96325779e-03 1.01110048e-02 1.32363640e-02\n",
      " 1.21333308e-02 5.60747919e-03 8.97283636e-03 9.53874287e-03\n",
      " 1.17424542e-02 9.53408102e-03 1.15131758e-02 1.33962067e-02\n",
      " 1.27221761e-02 1.15191380e-02 1.12301933e-02 1.06853862e-01\n",
      " 9.23568743e-02 6.51846219e-05 6.37811068e-04 1.50892811e-03\n",
      " 6.54010913e-04 9.25750628e-04 4.00685374e-04 1.71520554e-04\n",
      " 1.17838414e-03 1.21933400e-03 2.73236491e-04 1.38712837e-03\n",
      " 7.69606732e-04 2.12572519e-04 7.64921066e-04 1.38841466e-03\n",
      " 1.38048046e-03 1.74054650e-03 1.84281414e-03 1.61992099e-03\n",
      " 1.07036916e-03 8.27567876e-04 1.07478351e-03 2.21778002e-04\n",
      " 1.08187897e-03 1.16648379e-03 6.60242104e-04 5.68279565e-04\n",
      " 7.80500314e-04 1.13402643e-03 1.54367966e-03 9.49057831e-04\n",
      " 8.76116422e-04 1.58177809e-03 1.02927038e-03 3.32027312e-04\n",
      " 3.96589276e-05 2.15154980e-04 1.98320062e-03 1.70348228e-04\n",
      " 1.06479834e-03 1.32794133e-03 1.57253461e-03 4.51968075e-04\n",
      " 1.55800985e-03 1.02424394e-03 2.20647227e-04 1.90269105e-03\n",
      " 1.00356360e-03 3.50891726e-04 1.47878375e-03 4.44936229e-04\n",
      " 1.03226643e-04 9.17123368e-04]\n"
     ]
    },
    {
     "data": {
      "image/png": "[encoded data removed]",
      "text/plain": [
       "<Figure size 432x288 with 1 Axes>"
      ]
     },
     "metadata": {
      "needs_background": "light"
     },
     "output_type": "display_data"
    }
   ],
   "source": [
    "features = clf.feature_importances_\n",
    "print(features)\n",
    "plt.bar(x = range(len(features)), height=features)\n",
    "plt.show()"
   ]
  },
  {
   "cell_type": "code",
   "execution_count": null,
   "id": "670ee42c",
   "metadata": {},
   "outputs": [],
   "source": []
  },
  {
   "cell_type": "code",
   "execution_count": null,
   "id": "cc06c527",
   "metadata": {},
   "outputs": [],
   "source": []
  },
  {
   "cell_type": "code",
   "execution_count": null,
   "id": "eaaa7993",
   "metadata": {},
   "outputs": [],
   "source": []
  },
  {
   "cell_type": "code",
   "execution_count": null,
   "id": "2a2869f3",
   "metadata": {},
   "outputs": [],
   "source": []
  },
  {
   "cell_type": "code",
   "execution_count": null,
   "id": "5a062c88",
   "metadata": {},
   "outputs": [],
   "source": [
    "\n"
   ]
  },
  {
   "cell_type": "code",
   "execution_count": null,
   "id": "56c63322",
   "metadata": {},
   "outputs": [],
   "source": []
  },
  {
   "cell_type": "code",
   "execution_count": null,
   "id": "182e73c7",
   "metadata": {},
   "outputs": [],
   "source": []
  },
  {
   "cell_type": "code",
   "execution_count": null,
   "id": "e8178e3e",
   "metadata": {},
   "outputs": [],
   "source": []
  },
  {
   "cell_type": "code",
   "execution_count": null,
   "id": "d3ef6601",
   "metadata": {},
   "outputs": [],
   "source": []
  },
  {
   "cell_type": "code",
   "execution_count": null,
   "id": "76ab7a4a",
   "metadata": {},
   "outputs": [],
   "source": []
  },
  {
   "cell_type": "code",
   "execution_count": null,
   "id": "9b4dd9c9",
   "metadata": {},
   "outputs": [],
   "source": []
  },
  {
   "cell_type": "code",
   "execution_count": null,
   "id": "c68885a4",
   "metadata": {},
   "outputs": [],
   "source": []
  },
  {
   "cell_type": "code",
   "execution_count": null,
   "id": "c2481a3b",
   "metadata": {},
   "outputs": [],
   "source": []
  },
  {
   "cell_type": "code",
   "execution_count": null,
   "id": "26ad2cb2",
   "metadata": {},
   "outputs": [],
   "source": []
  },
  {
   "cell_type": "code",
   "execution_count": null,
   "id": "cc827025",
   "metadata": {},
   "outputs": [],
   "source": []
  },
  {
   "cell_type": "code",
   "execution_count": null,
   "id": "c7c76384",
   "metadata": {},
   "outputs": [],
   "source": []
  },
  {
   "cell_type": "code",
   "execution_count": null,
   "id": "4e804e18",
   "metadata": {},
   "outputs": [],
   "source": []
  },
  {
   "cell_type": "code",
   "execution_count": null,
   "id": "0e6ec48f",
   "metadata": {},
   "outputs": [],
   "source": []
  },
  {
   "cell_type": "code",
   "execution_count": null,
   "id": "4ed2ba91",
   "metadata": {},
   "outputs": [],
   "source": []
  },
  {
   "cell_type": "code",
   "execution_count": null,
   "id": "a3c7b436",
   "metadata": {},
   "outputs": [],
   "source": []
  },
  {
   "cell_type": "code",
   "execution_count": null,
   "id": "bc9103a0",
   "metadata": {},
   "outputs": [],
   "source": []
  },
  {
   "cell_type": "code",
   "execution_count": null,
   "id": "82115494",
   "metadata": {},
   "outputs": [],
   "source": []
  }
 ],
 "metadata": {
  "kernelspec": {
   "display_name": "Python [conda env:PythonData38] *",
   "language": "python",
   "name": "conda-env-PythonData38-py"
  },
  "language_info": {
   "codemirror_mode": {
    "name": "ipython",
    "version": 3
   },
   "file_extension": ".py",
   "mimetype": "text/x-python",
   "name": "python",
   "nbconvert_exporter": "python",
   "pygments_lexer": "ipython3",
   "version": "3.8.12"
  }
 },
 "nbformat": 4,
 "nbformat_minor": 5
}

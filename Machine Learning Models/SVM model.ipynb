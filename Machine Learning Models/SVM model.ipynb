{
 "cells": [
  {
   "cell_type": "code",
   "execution_count": 1,
   "id": "dd7a2551",
   "metadata": {},
   "outputs": [],
   "source": [
    "%matplotlib inline\n",
    "import pandas as pd\n",
    "from sklearn.model_selection import train_test_split\n",
    "from collections import Counter\n",
    "import matplotlib.pyplot as plt\n",
    "from matplotlib import pyplot as plt\n",
    "from sklearn.datasets import make_classification\n",
    "import numpy as np\n",
    "from sklearn.ensemble import RandomForestClassifier\n",
    "from sklearn.model_selection import train_test_split\n",
    "from sklearn.preprocessing import StandardScaler\n",
    "from sklearn.feature_selection import SelectFromModel"
   ]
  },
  {
   "cell_type": "code",
   "execution_count": 2,
   "id": "321faae6",
   "metadata": {},
   "outputs": [],
   "source": [
    "survival_df = pd.read_csv(\"../Patient-Survival-Model/Resources/cleaned_data_survival_prediction.csv\")"
   ]
  },
  {
   "cell_type": "code",
   "execution_count": 3,
   "id": "457694da",
   "metadata": {},
   "outputs": [],
   "source": [
    "survival_df_features = survival_df[['apache_4a_hospital_death_prob', 'apache_4a_icu_death_prob',\n",
    "                                  'd1_spo2_min', 'd1_temp_min', 'd1_sysbp_noninvasive_min',\n",
    "                                  'd1_sysbp_min', 'd1_heartrate_min', 'heart_rate_apache',\n",
    "                                  'apache_3j_diagnosis', 'pre_icu_los_days','hospital_death']]"
   ]
  },
  {
   "cell_type": "code",
   "execution_count": 4,
   "id": "00f25ebd",
   "metadata": {},
   "outputs": [],
   "source": [
    "X = survival_df_features.drop('hospital_death', axis=1)\n",
    "y = survival_df_features['hospital_death']"
   ]
  },
  {
   "cell_type": "code",
   "execution_count": 5,
   "id": "68924731",
   "metadata": {},
   "outputs": [],
   "source": [
    "X = pd.get_dummies(X)"
   ]
  },
  {
   "cell_type": "code",
   "execution_count": 6,
   "id": "0a4ab9f5",
   "metadata": {},
   "outputs": [],
   "source": [
    "X_train, X_test, y_train, y_test = train_test_split(X, y, random_state=42)\n",
    "from sklearn.preprocessing import StandardScaler\n",
    "\n",
    "scaler = StandardScaler().fit(X_train)\n",
    "\n",
    "X_train_scaled = scaler.transform(X_train)\n",
    "\n",
    "X_test_scaled = scaler.transform(X_test)"
   ]
  },
  {
   "cell_type": "code",
   "execution_count": 7,
   "id": "e82fee87",
   "metadata": {},
   "outputs": [
    {
     "data": {
      "text/plain": [
       "(42701, 10)"
      ]
     },
     "execution_count": 7,
     "metadata": {},
     "output_type": "execute_result"
    }
   ],
   "source": [
    "np.shape(X_train_scaled)"
   ]
  },
  {
   "cell_type": "code",
   "execution_count": 8,
   "id": "2429c108",
   "metadata": {},
   "outputs": [
    {
     "data": {
      "text/html": [
       "<div>\n",
       "<style scoped>\n",
       "    .dataframe tbody tr th:only-of-type {\n",
       "        vertical-align: middle;\n",
       "    }\n",
       "\n",
       "    .dataframe tbody tr th {\n",
       "        vertical-align: top;\n",
       "    }\n",
       "\n",
       "    .dataframe thead th {\n",
       "        text-align: right;\n",
       "    }\n",
       "</style>\n",
       "<table border=\"1\" class=\"dataframe\">\n",
       "  <thead>\n",
       "    <tr style=\"text-align: right;\">\n",
       "      <th></th>\n",
       "      <th>apache_4a_hospital_death_prob</th>\n",
       "      <th>apache_4a_icu_death_prob</th>\n",
       "      <th>d1_spo2_min</th>\n",
       "      <th>d1_temp_min</th>\n",
       "      <th>d1_sysbp_noninvasive_min</th>\n",
       "      <th>d1_sysbp_min</th>\n",
       "      <th>d1_heartrate_min</th>\n",
       "      <th>heart_rate_apache</th>\n",
       "      <th>apache_3j_diagnosis</th>\n",
       "      <th>pre_icu_los_days</th>\n",
       "    </tr>\n",
       "  </thead>\n",
       "  <tbody>\n",
       "    <tr>\n",
       "      <th>0</th>\n",
       "      <td>0.10</td>\n",
       "      <td>0.05</td>\n",
       "      <td>74.0</td>\n",
       "      <td>37.2</td>\n",
       "      <td>73.0</td>\n",
       "      <td>73.0</td>\n",
       "      <td>72.0</td>\n",
       "      <td>118.0</td>\n",
       "      <td>502.01</td>\n",
       "      <td>0.541667</td>\n",
       "    </tr>\n",
       "    <tr>\n",
       "      <th>1</th>\n",
       "      <td>0.47</td>\n",
       "      <td>0.29</td>\n",
       "      <td>70.0</td>\n",
       "      <td>35.1</td>\n",
       "      <td>67.0</td>\n",
       "      <td>67.0</td>\n",
       "      <td>72.0</td>\n",
       "      <td>120.0</td>\n",
       "      <td>203.01</td>\n",
       "      <td>0.927778</td>\n",
       "    </tr>\n",
       "    <tr>\n",
       "      <th>2</th>\n",
       "      <td>0.05</td>\n",
       "      <td>0.02</td>\n",
       "      <td>91.0</td>\n",
       "      <td>36.6</td>\n",
       "      <td>107.0</td>\n",
       "      <td>107.0</td>\n",
       "      <td>83.0</td>\n",
       "      <td>113.0</td>\n",
       "      <td>403.01</td>\n",
       "      <td>0.000694</td>\n",
       "    </tr>\n",
       "    <tr>\n",
       "      <th>3</th>\n",
       "      <td>0.01</td>\n",
       "      <td>0.00</td>\n",
       "      <td>92.0</td>\n",
       "      <td>36.7</td>\n",
       "      <td>95.0</td>\n",
       "      <td>95.0</td>\n",
       "      <td>67.0</td>\n",
       "      <td>101.0</td>\n",
       "      <td>1304.08</td>\n",
       "      <td>0.004861</td>\n",
       "    </tr>\n",
       "    <tr>\n",
       "      <th>4</th>\n",
       "      <td>0.11</td>\n",
       "      <td>0.06</td>\n",
       "      <td>88.0</td>\n",
       "      <td>36.4</td>\n",
       "      <td>102.0</td>\n",
       "      <td>102.0</td>\n",
       "      <td>64.0</td>\n",
       "      <td>114.0</td>\n",
       "      <td>203.01</td>\n",
       "      <td>0.000000</td>\n",
       "    </tr>\n",
       "  </tbody>\n",
       "</table>\n",
       "</div>"
      ],
      "text/plain": [
       "   apache_4a_hospital_death_prob  apache_4a_icu_death_prob  d1_spo2_min  \\\n",
       "0                           0.10                      0.05         74.0   \n",
       "1                           0.47                      0.29         70.0   \n",
       "2                           0.05                      0.02         91.0   \n",
       "3                           0.01                      0.00         92.0   \n",
       "4                           0.11                      0.06         88.0   \n",
       "\n",
       "   d1_temp_min  d1_sysbp_noninvasive_min  d1_sysbp_min  d1_heartrate_min  \\\n",
       "0         37.2                      73.0          73.0              72.0   \n",
       "1         35.1                      67.0          67.0              72.0   \n",
       "2         36.6                     107.0         107.0              83.0   \n",
       "3         36.7                      95.0          95.0              67.0   \n",
       "4         36.4                     102.0         102.0              64.0   \n",
       "\n",
       "   heart_rate_apache  apache_3j_diagnosis  pre_icu_los_days  \n",
       "0              118.0               502.01          0.541667  \n",
       "1              120.0               203.01          0.927778  \n",
       "2              113.0               403.01          0.000694  \n",
       "3              101.0              1304.08          0.004861  \n",
       "4              114.0               203.01          0.000000  "
      ]
     },
     "execution_count": 8,
     "metadata": {},
     "output_type": "execute_result"
    }
   ],
   "source": [
    "X.head()"
   ]
  },
  {
   "cell_type": "markdown",
   "id": "2caa369e",
   "metadata": {},
   "source": [
    "### SVM with imbalanced data"
   ]
  },
  {
   "cell_type": "code",
   "execution_count": 9,
   "id": "308e2de3",
   "metadata": {},
   "outputs": [
    {
     "name": "stderr",
     "output_type": "stream",
     "text": [
      "/Users/atikahemani/opt/anaconda3/envs/PythonData38/lib/python3.8/site-packages/sklearn/base.py:443: UserWarning: X has feature names, but SVC was fitted without feature names\n",
      "  warnings.warn(\n"
     ]
    },
    {
     "name": "stdout",
     "output_type": "stream",
     "text": [
      "Test Acc: 0.911\n"
     ]
    }
   ],
   "source": [
    "# Support vector machine linear classifier\n",
    "from sklearn.svm import SVC \n",
    "model = SVC(kernel='linear')\n",
    "model.fit(X_train_scaled, y_train)\n",
    "\n",
    "# Model Accuracy\n",
    "print('Test Acc: %.3f' % model.score(X_test, y_test))"
   ]
  },
  {
   "cell_type": "markdown",
   "id": "08ae2005",
   "metadata": {},
   "source": [
    "### Balance the data set using OVERSAMPLING"
   ]
  },
  {
   "cell_type": "code",
   "execution_count": 10,
   "id": "92d77168",
   "metadata": {},
   "outputs": [],
   "source": [
    "#import package\n",
    "from imblearn.over_sampling import RandomOverSampler"
   ]
  },
  {
   "cell_type": "code",
   "execution_count": 11,
   "id": "2007a891",
   "metadata": {},
   "outputs": [
    {
     "name": "stdout",
     "output_type": "stream",
     "text": [
      "Training target statistics: Counter({0: 39082, 1: 39082})\n",
      "Testing target statistics: Counter({0: 12962, 1: 1272})\n"
     ]
    }
   ],
   "source": [
    "#Balancing the Data Set\n",
    "\n",
    "over_sampler = RandomOverSampler(random_state=42)\n",
    "X_res, y_res = over_sampler.fit_resample(X_train, y_train)\n",
    "print(f\"Training target statistics: {Counter(y_res)}\")\n",
    "print(f\"Testing target statistics: {Counter(y_test)}\")"
   ]
  },
  {
   "cell_type": "code",
   "execution_count": 12,
   "id": "c12f4406",
   "metadata": {},
   "outputs": [],
   "source": [
    "#Scale the data\n",
    "X_train, X_test, y_train, y_test = train_test_split(X_res, y_res, random_state=1)\n",
    "from sklearn.preprocessing import StandardScaler\n",
    "\n",
    "scaler = StandardScaler().fit(X_train)\n",
    "X_train_scaled = scaler.transform(X_train)\n",
    "\n",
    "X_test_scaled = scaler.transform(X_test)"
   ]
  },
  {
   "cell_type": "markdown",
   "id": "6ef0ea00",
   "metadata": {},
   "source": [
    "### SVM with balanced data"
   ]
  },
  {
   "cell_type": "code",
   "execution_count": 13,
   "id": "cff82f72",
   "metadata": {},
   "outputs": [
    {
     "name": "stderr",
     "output_type": "stream",
     "text": [
      "/Users/atikahemani/opt/anaconda3/envs/PythonData38/lib/python3.8/site-packages/sklearn/base.py:443: UserWarning: X has feature names, but SVC was fitted without feature names\n",
      "  warnings.warn(\n"
     ]
    },
    {
     "name": "stdout",
     "output_type": "stream",
     "text": [
      "Test Acc: 0.500\n"
     ]
    }
   ],
   "source": [
    "#Run SVM again\n",
    "\n",
    "# Support vector machine linear classifier\n",
    "from sklearn.svm import SVC \n",
    "model = SVC(kernel='linear')\n",
    "model.fit(X_train_scaled, y_train)\n",
    "\n",
    "# Model Accuracy\n",
    "print('Test Acc: %.3f' % model.score(X_test, y_test))"
   ]
  }
 ],
 "metadata": {
  "kernelspec": {
   "display_name": "Python [conda env:PythonData38] *",
   "language": "python",
   "name": "conda-env-PythonData38-py"
  },
  "language_info": {
   "codemirror_mode": {
    "name": "ipython",
    "version": 3
   },
   "file_extension": ".py",
   "mimetype": "text/x-python",
   "name": "python",
   "nbconvert_exporter": "python",
   "pygments_lexer": "ipython3",
   "version": "3.8.12"
  }
 },
 "nbformat": 4,
 "nbformat_minor": 5
}

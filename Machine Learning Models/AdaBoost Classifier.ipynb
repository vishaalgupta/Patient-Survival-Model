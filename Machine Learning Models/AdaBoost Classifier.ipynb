{
 "cells": [
  {
   "cell_type": "code",
   "execution_count": 2,
   "id": "d3080e6f",
   "metadata": {},
   "outputs": [],
   "source": [
    "%matplotlib inline\n",
    "import pandas as pd\n",
    "from sklearn.model_selection import train_test_split\n",
    "from collections import Counter\n",
    "import matplotlib.pyplot as plt\n",
    "from matplotlib import pyplot as plt\n",
    "import numpy as np\n",
    "from sklearn.tree import DecisionTreeClassifier\n",
    "from sklearn.ensemble import AdaBoostClassifier\n",
    "from imblearn.over_sampling import RandomOverSampler\n",
    "from sklearn.metrics import confusion_matrix, classification_report"
   ]
  },
  {
   "cell_type": "code",
   "execution_count": 3,
   "id": "f6288072",
   "metadata": {},
   "outputs": [
    {
     "data": {
      "text/html": [
       "<div>\n",
       "<style scoped>\n",
       "    .dataframe tbody tr th:only-of-type {\n",
       "        vertical-align: middle;\n",
       "    }\n",
       "\n",
       "    .dataframe tbody tr th {\n",
       "        vertical-align: top;\n",
       "    }\n",
       "\n",
       "    .dataframe thead th {\n",
       "        text-align: right;\n",
       "    }\n",
       "</style>\n",
       "<table border=\"1\" class=\"dataframe\">\n",
       "  <thead>\n",
       "    <tr style=\"text-align: right;\">\n",
       "      <th></th>\n",
       "      <th>age</th>\n",
       "      <th>bmi</th>\n",
       "      <th>elective_surgery</th>\n",
       "      <th>ethnicity</th>\n",
       "      <th>gender</th>\n",
       "      <th>height</th>\n",
       "      <th>icu_admit_source</th>\n",
       "      <th>icu_id</th>\n",
       "      <th>icu_stay_type</th>\n",
       "      <th>icu_type</th>\n",
       "      <th>...</th>\n",
       "      <th>cirrhosis</th>\n",
       "      <th>diabetes_mellitus</th>\n",
       "      <th>hepatic_failure</th>\n",
       "      <th>immunosuppression</th>\n",
       "      <th>leukemia</th>\n",
       "      <th>lymphoma</th>\n",
       "      <th>solid_tumor_with_metastasis</th>\n",
       "      <th>apache_3j_bodysystem</th>\n",
       "      <th>apache_2_bodysystem</th>\n",
       "      <th>hospital_death</th>\n",
       "    </tr>\n",
       "  </thead>\n",
       "  <tbody>\n",
       "    <tr>\n",
       "      <th>0</th>\n",
       "      <td>68.0</td>\n",
       "      <td>22.730000</td>\n",
       "      <td>0</td>\n",
       "      <td>Caucasian</td>\n",
       "      <td>M</td>\n",
       "      <td>180.3</td>\n",
       "      <td>Floor</td>\n",
       "      <td>92</td>\n",
       "      <td>admit</td>\n",
       "      <td>CTICU</td>\n",
       "      <td>...</td>\n",
       "      <td>0.0</td>\n",
       "      <td>1.0</td>\n",
       "      <td>0.0</td>\n",
       "      <td>0.0</td>\n",
       "      <td>0.0</td>\n",
       "      <td>0.0</td>\n",
       "      <td>0.0</td>\n",
       "      <td>Sepsis</td>\n",
       "      <td>Cardiovascular</td>\n",
       "      <td>0</td>\n",
       "    </tr>\n",
       "    <tr>\n",
       "      <th>1</th>\n",
       "      <td>77.0</td>\n",
       "      <td>27.420000</td>\n",
       "      <td>0</td>\n",
       "      <td>Caucasian</td>\n",
       "      <td>F</td>\n",
       "      <td>160.0</td>\n",
       "      <td>Floor</td>\n",
       "      <td>90</td>\n",
       "      <td>admit</td>\n",
       "      <td>Med-Surg ICU</td>\n",
       "      <td>...</td>\n",
       "      <td>0.0</td>\n",
       "      <td>1.0</td>\n",
       "      <td>0.0</td>\n",
       "      <td>0.0</td>\n",
       "      <td>0.0</td>\n",
       "      <td>0.0</td>\n",
       "      <td>0.0</td>\n",
       "      <td>Respiratory</td>\n",
       "      <td>Respiratory</td>\n",
       "      <td>0</td>\n",
       "    </tr>\n",
       "    <tr>\n",
       "      <th>2</th>\n",
       "      <td>67.0</td>\n",
       "      <td>27.560000</td>\n",
       "      <td>0</td>\n",
       "      <td>Caucasian</td>\n",
       "      <td>M</td>\n",
       "      <td>190.5</td>\n",
       "      <td>Accident &amp; Emergency</td>\n",
       "      <td>95</td>\n",
       "      <td>admit</td>\n",
       "      <td>Med-Surg ICU</td>\n",
       "      <td>...</td>\n",
       "      <td>0.0</td>\n",
       "      <td>1.0</td>\n",
       "      <td>0.0</td>\n",
       "      <td>0.0</td>\n",
       "      <td>0.0</td>\n",
       "      <td>0.0</td>\n",
       "      <td>0.0</td>\n",
       "      <td>Neurological</td>\n",
       "      <td>Neurologic</td>\n",
       "      <td>0</td>\n",
       "    </tr>\n",
       "    <tr>\n",
       "      <th>3</th>\n",
       "      <td>72.0</td>\n",
       "      <td>28.257052</td>\n",
       "      <td>1</td>\n",
       "      <td>Hispanic</td>\n",
       "      <td>F</td>\n",
       "      <td>154.9</td>\n",
       "      <td>Operating Room / Recovery</td>\n",
       "      <td>113</td>\n",
       "      <td>admit</td>\n",
       "      <td>Med-Surg ICU</td>\n",
       "      <td>...</td>\n",
       "      <td>0.0</td>\n",
       "      <td>0.0</td>\n",
       "      <td>0.0</td>\n",
       "      <td>1.0</td>\n",
       "      <td>0.0</td>\n",
       "      <td>0.0</td>\n",
       "      <td>0.0</td>\n",
       "      <td>Respiratory</td>\n",
       "      <td>Respiratory</td>\n",
       "      <td>0</td>\n",
       "    </tr>\n",
       "    <tr>\n",
       "      <th>4</th>\n",
       "      <td>46.0</td>\n",
       "      <td>25.845717</td>\n",
       "      <td>0</td>\n",
       "      <td>Hispanic</td>\n",
       "      <td>M</td>\n",
       "      <td>167.6</td>\n",
       "      <td>Accident &amp; Emergency</td>\n",
       "      <td>92</td>\n",
       "      <td>admit</td>\n",
       "      <td>CTICU</td>\n",
       "      <td>...</td>\n",
       "      <td>0.0</td>\n",
       "      <td>0.0</td>\n",
       "      <td>0.0</td>\n",
       "      <td>0.0</td>\n",
       "      <td>0.0</td>\n",
       "      <td>0.0</td>\n",
       "      <td>0.0</td>\n",
       "      <td>Respiratory</td>\n",
       "      <td>Respiratory</td>\n",
       "      <td>0</td>\n",
       "    </tr>\n",
       "  </tbody>\n",
       "</table>\n",
       "<p>5 rows × 81 columns</p>\n",
       "</div>"
      ],
      "text/plain": [
       "    age        bmi  elective_surgery  ethnicity gender  height  \\\n",
       "0  68.0  22.730000                 0  Caucasian      M   180.3   \n",
       "1  77.0  27.420000                 0  Caucasian      F   160.0   \n",
       "2  67.0  27.560000                 0  Caucasian      M   190.5   \n",
       "3  72.0  28.257052                 1   Hispanic      F   154.9   \n",
       "4  46.0  25.845717                 0   Hispanic      M   167.6   \n",
       "\n",
       "            icu_admit_source  icu_id icu_stay_type      icu_type  ...  \\\n",
       "0                      Floor      92         admit         CTICU  ...   \n",
       "1                      Floor      90         admit  Med-Surg ICU  ...   \n",
       "2       Accident & Emergency      95         admit  Med-Surg ICU  ...   \n",
       "3  Operating Room / Recovery     113         admit  Med-Surg ICU  ...   \n",
       "4       Accident & Emergency      92         admit         CTICU  ...   \n",
       "\n",
       "   cirrhosis  diabetes_mellitus  hepatic_failure  immunosuppression  leukemia  \\\n",
       "0        0.0                1.0              0.0                0.0       0.0   \n",
       "1        0.0                1.0              0.0                0.0       0.0   \n",
       "2        0.0                1.0              0.0                0.0       0.0   \n",
       "3        0.0                0.0              0.0                1.0       0.0   \n",
       "4        0.0                0.0              0.0                0.0       0.0   \n",
       "\n",
       "   lymphoma  solid_tumor_with_metastasis  apache_3j_bodysystem  \\\n",
       "0       0.0                          0.0                Sepsis   \n",
       "1       0.0                          0.0           Respiratory   \n",
       "2       0.0                          0.0          Neurological   \n",
       "3       0.0                          0.0           Respiratory   \n",
       "4       0.0                          0.0           Respiratory   \n",
       "\n",
       "   apache_2_bodysystem  hospital_death  \n",
       "0       Cardiovascular               0  \n",
       "1          Respiratory               0  \n",
       "2           Neurologic               0  \n",
       "3          Respiratory               0  \n",
       "4          Respiratory               0  \n",
       "\n",
       "[5 rows x 81 columns]"
      ]
     },
     "execution_count": 3,
     "metadata": {},
     "output_type": "execute_result"
    }
   ],
   "source": [
    "survival_df = pd.read_csv(\"/Users/lindseyvalput/Desktop/Patient-Survival-Model/Resources/cleaned_data_survival_prediction.csv\")\n",
    "survival_df.head()"
   ]
  },
  {
   "cell_type": "code",
   "execution_count": 4,
   "id": "05c6c714",
   "metadata": {},
   "outputs": [],
   "source": [
    "survival_df_features = survival_df[['apache_4a_hospital_death_prob', 'apache_4a_icu_death_prob',\n",
    "                                  'd1_spo2_min', 'd1_temp_min', 'd1_sysbp_noninvasive_min',\n",
    "                                  'd1_sysbp_min', 'd1_heartrate_min', 'heart_rate_apache',\n",
    "                                  'apache_3j_diagnosis', 'pre_icu_los_days','hospital_death']]"
   ]
  },
  {
   "cell_type": "code",
   "execution_count": 5,
   "id": "b5ce15e6",
   "metadata": {},
   "outputs": [],
   "source": [
    "X = survival_df_features.drop('hospital_death', axis=1)\n",
    "y = survival_df_features['hospital_death']"
   ]
  },
  {
   "cell_type": "code",
   "execution_count": 6,
   "id": "ccaf078c",
   "metadata": {},
   "outputs": [],
   "source": [
    "X = pd.get_dummies(X)"
   ]
  },
  {
   "cell_type": "markdown",
   "id": "7a6ccb6a",
   "metadata": {},
   "source": [
    "### Balance the data set - OVERsampling"
   ]
  },
  {
   "cell_type": "code",
   "execution_count": 7,
   "id": "01b5683c",
   "metadata": {},
   "outputs": [
    {
     "name": "stdout",
     "output_type": "stream",
     "text": [
      "Original dataset shape Counter({0: 52044, 1: 4891})\n",
      "Resample dataset shape Counter({0: 52044, 1: 52044})\n"
     ]
    }
   ],
   "source": [
    "#Balance Data - oversampling\n",
    "ros = RandomOverSampler(random_state=42)\n",
    "\n",
    "x_ros, y_ros = ros.fit_resample(X, y)\n",
    "\n",
    "print('Original dataset shape', Counter(y))\n",
    "print('Resample dataset shape', Counter(y_ros))"
   ]
  },
  {
   "cell_type": "code",
   "execution_count": 8,
   "id": "e4725e23",
   "metadata": {},
   "outputs": [],
   "source": [
    "X_train, X_test, y_train, y_test = train_test_split(x_ros, y_ros, random_state=45)"
   ]
  },
  {
   "cell_type": "code",
   "execution_count": 9,
   "id": "7a88759d",
   "metadata": {},
   "outputs": [
    {
     "name": "stdout",
     "output_type": "stream",
     "text": [
      "Training Score: 0.7973893884661697\n",
      "Testing Score: 0.7950195988010145\n"
     ]
    }
   ],
   "source": [
    "clf = AdaBoostClassifier(random_state=1, n_estimators=50, base_estimator=DecisionTreeClassifier(max_depth=2)).fit(X_train, y_train)\n",
    "print(f'Training Score: {clf.score(X_train, y_train)}')\n",
    "print(f'Testing Score: {clf.score(X_test, y_test)}')"
   ]
  },
  {
   "cell_type": "code",
   "execution_count": 10,
   "id": "f6878fee",
   "metadata": {},
   "outputs": [
    {
     "name": "stdout",
     "output_type": "stream",
     "text": [
      "Test Acc: 0.795\n",
      "[[10304  2779]\n",
      " [ 2555 10384]]\n",
      "              precision    recall  f1-score   support\n",
      "\n",
      "           0       0.80      0.79      0.79     13083\n",
      "           1       0.79      0.80      0.80     12939\n",
      "\n",
      "    accuracy                           0.80     26022\n",
      "   macro avg       0.80      0.80      0.80     26022\n",
      "weighted avg       0.80      0.80      0.80     26022\n",
      "\n"
     ]
    }
   ],
   "source": [
    "y_true = y_test\n",
    "y_pred = clf.predict(X_test)\n",
    "\n",
    "print('Test Acc: %.3f' % clf.score(X_test, y_test))\n",
    "print(confusion_matrix(y_true, y_pred))\n",
    "print(classification_report(y_true, y_pred))"
   ]
  }
 ],
 "metadata": {
  "kernelspec": {
   "display_name": "Python [conda env:PythonData38] *",
   "language": "python",
   "name": "conda-env-PythonData38-py"
  },
  "language_info": {
   "codemirror_mode": {
    "name": "ipython",
    "version": 3
   },
   "file_extension": ".py",
   "mimetype": "text/x-python",
   "name": "python",
   "nbconvert_exporter": "python",
   "pygments_lexer": "ipython3",
   "version": "3.8.12"
  }
 },
 "nbformat": 4,
 "nbformat_minor": 5
}

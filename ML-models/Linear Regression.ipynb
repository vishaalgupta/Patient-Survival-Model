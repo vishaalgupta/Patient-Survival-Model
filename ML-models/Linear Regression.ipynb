{
 "cells": [
  {
   "cell_type": "code",
   "execution_count": 1,

   "id": "b910e04e",
   "metadata": {},
   "outputs": [],
   "source": [
    "#importing all the libraries we need\n",

    "%matplotlib inline\n",
    "import pandas as pd\n",
    "from sklearn.model_selection import train_test_split\n",
    "from collections import Counter\n",
    "import matplotlib.pyplot as plt\n",
    "from matplotlib import pyplot as plt\n",
    "import numpy as np\n",
    "from sklearn.linear_model import LinearRegression\n",
    "from imblearn.over_sampling import RandomOverSampler\n",
    "from sklearn.metrics import confusion_matrix, classification_report"
   ]
  },
  {
   "cell_type": "code",
   "execution_count": 2,

   "id": "ebe54b17",

   "metadata": {},
   "outputs": [
    {
     "data": {
      "text/html": [
       "<div>\n",
       "<style scoped>\n",
       "    .dataframe tbody tr th:only-of-type {\n",
       "        vertical-align: middle;\n",
       "    }\n",
       "\n",
       "    .dataframe tbody tr th {\n",
       "        vertical-align: top;\n",
       "    }\n",
       "\n",
       "    .dataframe thead th {\n",
       "        text-align: right;\n",
       "    }\n",
       "</style>\n",
       "<table border=\"1\" class=\"dataframe\">\n",
       "  <thead>\n",
       "    <tr style=\"text-align: right;\">\n",
       "      <th></th>\n",
       "      <th>age</th>\n",
       "      <th>bmi</th>\n",
       "      <th>elective_surgery</th>\n",
       "      <th>ethnicity</th>\n",
       "      <th>gender</th>\n",
       "      <th>height</th>\n",
       "      <th>icu_admit_source</th>\n",
       "      <th>icu_stay_type</th>\n",
       "      <th>icu_type</th>\n",
       "      <th>pre_icu_los_days</th>\n",
       "      <th>...</th>\n",
       "      <th>cirrhosis</th>\n",
       "      <th>diabetes_mellitus</th>\n",
       "      <th>hepatic_failure</th>\n",
       "      <th>immunosuppression</th>\n",
       "      <th>leukemia</th>\n",
       "      <th>lymphoma</th>\n",
       "      <th>solid_tumor_with_metastasis</th>\n",
       "      <th>apache_3j_bodysystem</th>\n",
       "      <th>apache_2_bodysystem</th>\n",
       "      <th>hospital_death</th>\n",
       "    </tr>\n",
       "  </thead>\n",
       "  <tbody>\n",
       "    <tr>\n",
       "      <th>0</th>\n",
       "      <td>68.0</td>\n",
       "      <td>22.730000</td>\n",
       "      <td>0</td>\n",
       "      <td>Caucasian</td>\n",
       "      <td>M</td>\n",
       "      <td>180.3</td>\n",
       "      <td>Floor</td>\n",
       "      <td>admit</td>\n",
       "      <td>CTICU</td>\n",
       "      <td>0.541667</td>\n",
       "      <td>...</td>\n",
       "      <td>0.0</td>\n",
       "      <td>1.0</td>\n",
       "      <td>0.0</td>\n",
       "      <td>0.0</td>\n",
       "      <td>0.0</td>\n",
       "      <td>0.0</td>\n",
       "      <td>0.0</td>\n",
       "      <td>Sepsis</td>\n",
       "      <td>Cardiovascular</td>\n",
       "      <td>0</td>\n",
       "    </tr>\n",
       "    <tr>\n",
       "      <th>1</th>\n",
       "      <td>77.0</td>\n",
       "      <td>27.420000</td>\n",
       "      <td>0</td>\n",
       "      <td>Caucasian</td>\n",
       "      <td>F</td>\n",
       "      <td>160.0</td>\n",
       "      <td>Floor</td>\n",
       "      <td>admit</td>\n",
       "      <td>Med-Surg ICU</td>\n",
       "      <td>0.927778</td>\n",
       "      <td>...</td>\n",
       "      <td>0.0</td>\n",
       "      <td>1.0</td>\n",
       "      <td>0.0</td>\n",
       "      <td>0.0</td>\n",
       "      <td>0.0</td>\n",
       "      <td>0.0</td>\n",
       "      <td>0.0</td>\n",
       "      <td>Respiratory</td>\n",
       "      <td>Respiratory</td>\n",
       "      <td>0</td>\n",
       "    </tr>\n",
       "    <tr>\n",
       "      <th>2</th>\n",
       "      <td>67.0</td>\n",
       "      <td>27.560000</td>\n",
       "      <td>0</td>\n",
       "      <td>Caucasian</td>\n",
       "      <td>M</td>\n",
       "      <td>190.5</td>\n",
       "      <td>Accident &amp; Emergency</td>\n",
       "      <td>admit</td>\n",
       "      <td>Med-Surg ICU</td>\n",
       "      <td>0.000694</td>\n",
       "      <td>...</td>\n",
       "      <td>0.0</td>\n",
       "      <td>1.0</td>\n",
       "      <td>0.0</td>\n",
       "      <td>0.0</td>\n",
       "      <td>0.0</td>\n",
       "      <td>0.0</td>\n",
       "      <td>0.0</td>\n",
       "      <td>Neurological</td>\n",
       "      <td>Neurologic</td>\n",
       "      <td>0</td>\n",
       "    </tr>\n",
       "    <tr>\n",
       "      <th>3</th>\n",
       "      <td>72.0</td>\n",
       "      <td>28.257052</td>\n",
       "      <td>1</td>\n",
       "      <td>Hispanic</td>\n",
       "      <td>F</td>\n",
       "      <td>154.9</td>\n",
       "      <td>Operating Room / Recovery</td>\n",
       "      <td>admit</td>\n",
       "      <td>Med-Surg ICU</td>\n",
       "      <td>0.004861</td>\n",
       "      <td>...</td>\n",
       "      <td>0.0</td>\n",
       "      <td>0.0</td>\n",
       "      <td>0.0</td>\n",
       "      <td>1.0</td>\n",
       "      <td>0.0</td>\n",
       "      <td>0.0</td>\n",
       "      <td>0.0</td>\n",
       "      <td>Respiratory</td>\n",
       "      <td>Respiratory</td>\n",
       "      <td>0</td>\n",
       "    </tr>\n",
       "    <tr>\n",
       "      <th>4</th>\n",
       "      <td>46.0</td>\n",
       "      <td>25.845717</td>\n",
       "      <td>0</td>\n",
       "      <td>Hispanic</td>\n",
       "      <td>M</td>\n",
       "      <td>167.6</td>\n",
       "      <td>Accident &amp; Emergency</td>\n",
       "      <td>admit</td>\n",
       "      <td>CTICU</td>\n",
       "      <td>0.000000</td>\n",
       "      <td>...</td>\n",
       "      <td>0.0</td>\n",
       "      <td>0.0</td>\n",
       "      <td>0.0</td>\n",
       "      <td>0.0</td>\n",
       "      <td>0.0</td>\n",
       "      <td>0.0</td>\n",
       "      <td>0.0</td>\n",
       "      <td>Respiratory</td>\n",
       "      <td>Respiratory</td>\n",
       "      <td>0</td>\n",
       "    </tr>\n",
       "  </tbody>\n",
       "</table>\n",
       "<p>5 rows × 80 columns</p>\n",
       "</div>"
      ],
      "text/plain": [
       "    age        bmi  elective_surgery  ethnicity gender  height  \\\n",
       "0  68.0  22.730000                 0  Caucasian      M   180.3   \n",
       "1  77.0  27.420000                 0  Caucasian      F   160.0   \n",
       "2  67.0  27.560000                 0  Caucasian      M   190.5   \n",
       "3  72.0  28.257052                 1   Hispanic      F   154.9   \n",
       "4  46.0  25.845717                 0   Hispanic      M   167.6   \n",
       "\n",
       "            icu_admit_source icu_stay_type      icu_type  pre_icu_los_days  \\\n",
       "0                      Floor         admit         CTICU          0.541667   \n",
       "1                      Floor         admit  Med-Surg ICU          0.927778   \n",
       "2       Accident & Emergency         admit  Med-Surg ICU          0.000694   \n",
       "3  Operating Room / Recovery         admit  Med-Surg ICU          0.004861   \n",
       "4       Accident & Emergency         admit         CTICU          0.000000   \n",
       "\n",
       "   ...  cirrhosis  diabetes_mellitus  hepatic_failure  immunosuppression  \\\n",
       "0  ...        0.0                1.0              0.0                0.0   \n",
       "1  ...        0.0                1.0              0.0                0.0   \n",
       "2  ...        0.0                1.0              0.0                0.0   \n",
       "3  ...        0.0                0.0              0.0                1.0   \n",
       "4  ...        0.0                0.0              0.0                0.0   \n",
       "\n",
       "   leukemia  lymphoma  solid_tumor_with_metastasis  apache_3j_bodysystem  \\\n",
       "0       0.0       0.0                          0.0                Sepsis   \n",
       "1       0.0       0.0                          0.0           Respiratory   \n",
       "2       0.0       0.0                          0.0          Neurological   \n",
       "3       0.0       0.0                          0.0           Respiratory   \n",
       "4       0.0       0.0                          0.0           Respiratory   \n",
       "\n",
       "   apache_2_bodysystem  hospital_death  \n",
       "0       Cardiovascular               0  \n",
       "1          Respiratory               0  \n",
       "2           Neurologic               0  \n",
       "3          Respiratory               0  \n",
       "4          Respiratory               0  \n",
       "\n",
       "[5 rows x 80 columns]"
      ]
     },
     "execution_count": 2,
     "metadata": {},
     "output_type": "execute_result"
    }
   ],
   "source": [

    "#Adding in our datafile\n",
    "survival_df = pd.read_csv(\"../Resources/cleaned_data_survival_prediction.csv\")\n",

    "survival_df.head()"
   ]
  },
  {
   "cell_type": "code",
   "execution_count": 3,

   "id": "59528010",
   "metadata": {},
   "outputs": [],
   "source": [
    "#labeling our X variable to drop our target variable\n",
    "#setting our y variable to be our target variable\n",

    "X = survival_df.drop('hospital_death', axis=1)\n",
    "y = survival_df['hospital_death']"
   ]
  },
  {
   "cell_type": "code",
   "execution_count": 4,

   "id": "b0e78a0e",
   "metadata": {},
   "outputs": [],
   "source": [
    "#dummy-coding the rest of our X categorical variables\n",

    "X = pd.get_dummies(X)"
   ]
  },
  {
   "cell_type": "markdown",

   "id": "2e5bb4a4",
   "metadata": {},
   "source": [
    "### Balance the data set - OVERsampling\n",
    "\n",
    "#### Since our data was not evenly distributed, we decided to use a method called OVERsampling to help compensate."

   ]
  },
  {
   "cell_type": "code",
   "execution_count": 6,

   "id": "89a9cf2e",

   "metadata": {},
   "outputs": [
    {
     "name": "stdout",
     "output_type": "stream",
     "text": [
      "Original dataset shape Counter({0: 52044, 1: 4891})\n",
      "Resample dataset shape Counter({0: 52044, 1: 52044})\n"
     ]
    }
   ],
   "source": [
    "#Balance Data - oversampling\n",
    "ros = RandomOverSampler(random_state=42)\n",
    "\n",
    "x_ros, y_ros = ros.fit_resample(X, y)\n",
    "\n",
    "print('Original dataset shape', Counter(y))\n",
    "print('Resample dataset shape', Counter(y_ros))"
   ]
  },
  {
   "cell_type": "code",
   "execution_count": 9,

   "id": "1fdd15d6",

   "metadata": {},
   "outputs": [],
   "source": [
    "from sklearn.preprocessing import StandardScaler\n",

    "#Splitting our data into train and test\n",

    "X_train, X_test, y_train, y_test = train_test_split(x_ros, y_ros, random_state=45)\n",
    "scaler = StandardScaler().fit(X_train)\n",
    "X_train_scaled = scaler.transform(X_train)\n",
    "\n",
    "X_test_scaled = scaler.transform(X_test)\n"
   ]
  },
  {
   "cell_type": "code",
   "execution_count": 10,

   "id": "94f5e38c",

   "metadata": {},
   "outputs": [
    {
     "name": "stdout",
     "output_type": "stream",
     "text": [
      "Training Score: 0.2911784598184851\n",
      "Testing Score: 0.30069286800528416\n"
     ]
    }
   ],
   "source": [

    "#Running Linear Regression\n",

    "lrm = LinearRegression()\n",
    "\n",
    "lrm.fit(X_train_scaled, y_train)\n",
    "training_score = lrm.score(X_train_scaled, y_train)\n",
    "testing_score = lrm.score(X_test_scaled, y_test)\n",
    "\n",
    "print(f\"Training Score: {training_score}\")\n",
    "print(f\"Testing Score: {testing_score}\")"
   ]
  },
  {
   "cell_type": "code",
   "execution_count": 14,

   "id": "b8ceee6d",

   "metadata": {},
   "outputs": [
    {
     "name": "stdout",
     "output_type": "stream",
     "text": [
      "Test Acc: 0.301\n"
     ]
    }
   ],
   "source": [

    "#Testing our model\n",

    "y_true = y_test\n",
    "y_pred = lrm.predict(X_test_scaled)\n",
    "\n",
    "print('Test Acc: %.3f' % lrm.score(X_test_scaled, y_test))\n",
    "\n"
   ]
  }
 ],
 "metadata": {
  "kernelspec": {
   "display_name": "Python [conda env:PythonData38] *",
   "language": "python",
   "name": "conda-env-PythonData38-py"
  },
  "language_info": {
   "codemirror_mode": {
    "name": "ipython",
    "version": 3
   },
   "file_extension": ".py",
   "mimetype": "text/x-python",
   "name": "python",
   "nbconvert_exporter": "python",
   "pygments_lexer": "ipython3",
   "version": "3.8.12"
  }
 },
 "nbformat": 4,
 "nbformat_minor": 5
}

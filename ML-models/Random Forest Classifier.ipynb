{
 "cells": [
  {
   "cell_type": "code",
   "execution_count": null,
   "id": "d7607f59",
   "metadata": {},
   "outputs": [],
   "source": [
    "#importing all the libraries and our datafile\n",
    "%matplotlib inline\n",
    "import pandas as pd\n",
    "from sklearn.model_selection import train_test_split\n",
    "from collections import Counter\n",
    "import matplotlib.pyplot as plt\n",
    "from matplotlib import pyplot\n",
    "import numpy as np\n",
    "from sklearn.ensemble import RandomForestClassifier\n",
    "from imblearn.over_sampling import RandomOverSampler\n",
    "from sklearn.metrics import confusion_matrix, classification_report\n",
    "\n",
    "survival_df = pd.read_csv(\"../Resources/cleaned_data_survival_prediction.csv\")"
   ]
  },
  {
   "cell_type": "code",
   "execution_count": null,
   "id": "ae473091",
   "metadata": {},
   "outputs": [],
   "source": [
    "survival_df.head()"
   ]
  },
  {
   "cell_type": "code",
   "execution_count": null,
   "id": "ddbd523d",
   "metadata": {},
   "outputs": [],
   "source": [
    "#labeling our X variable to drop our target variable\n",
    "#setting our y variable to be our target variable\n",
    "X = survival_df.drop('hospital_death', axis=1)\n",
    "y = survival_df['hospital_death']"
   ]
  },
  {
   "cell_type": "code",
   "execution_count": null,
   "id": "f720019c",
   "metadata": {},
   "outputs": [],
   "source": [
    "#dummy-coding the rest of our X categorical variables\n",
    "X = pd.get_dummies(X)"
   ]
  },
  {
   "cell_type": "markdown",
   "id": "bb5d744a",
   "metadata": {},
   "source": [
    "### Balance the data set - OVERsampling\n",
    "\n",
    "#### Since our data was not evenly distributed, we decided to use a method called OVERsampling to help compensate."
   ]
  },
  {
   "cell_type": "code",
   "execution_count": null,
   "id": "d43668d5",
   "metadata": {},
   "outputs": [],
   "source": [
    "#Balance Data - oversampling\n",
    "ros = RandomOverSampler(random_state=42)\n",
    "\n",
    "x_ros, y_ros = ros.fit_resample(X, y)\n",
    "\n",
    "print('Original dataset shape', Counter(y))\n",
    "print('Resample dataset shape', Counter(y_ros))"
   ]
  },
  {
   "cell_type": "code",
   "execution_count": null,
   "id": "71465129",
   "metadata": {},
   "outputs": [],
   "source": [
    "#Splitting our data into train and test\n",
    "X_train, X_test, y_train, y_test = train_test_split(x_ros, y_ros, random_state=40)\n",
    "\n",
    "#Running RandomForestClassifier\n",
    "clf = RandomForestClassifier(random_state=40, n_estimators=50).fit(X_train, y_train)\n",
    "print(f'Training Score: {clf.score(X_train, y_train)}')\n",
    "print(f'Testing Score: {clf.score(X_test, y_test)}')"
   ]
  },
  {
   "cell_type": "code",
   "execution_count": null,
   "id": "a383590d",
   "metadata": {},
   "outputs": [],
   "source": [
    "#Testing our model\n",
    "y_true = y_test\n",
    "y_pred = clf.predict(X_test)\n",
    "\n",
    "print('Test Acc: %.3f' % clf.score(X_test, y_test))\n",
    "print(confusion_matrix(y_true, y_pred))\n",
    "print(classification_report(y_true, y_pred))"
   ]
  },
  {
   "cell_type": "markdown",
   "id": "a532f133",
   "metadata": {},
   "source": [
    "### Since there is a large amount of features, we want to see which features are the most important. Below we are running feature importance. "
   ]
  },
  {
   "cell_type": "code",
   "execution_count": null,
   "id": "5d5c1b05",
   "metadata": {},
   "outputs": [],
   "source": [
    "importance = clf.feature_importances_"
   ]
  },
  {
   "cell_type": "code",
   "execution_count": null,
   "id": "e9d1539e",
   "metadata": {},
   "outputs": [],
   "source": [
    "# summarize feature importance\n",
    "for i,v in enumerate(importance):\n",
    "    print('Feature: %0d, Score: %.5f' % (i,v))\n",
    "# plot feature importance\n",
    "pyplot.bar([x for x in range(len(importance))], importance)\n",
    "pyplot.show()"
   ]
  },
  {
   "cell_type": "code",
   "execution_count": null,
   "id": "fa45b637",
   "metadata": {},
   "outputs": [],
   "source": []
  }
 ],
 "metadata": {
  "kernelspec": {
   "display_name": "Python [conda env:PythonData38] *",
   "language": "python",
   "name": "conda-env-PythonData38-py"
  },
  "language_info": {
   "codemirror_mode": {
    "name": "ipython",
    "version": 3
   },
   "file_extension": ".py",
   "mimetype": "text/x-python",
   "name": "python",
   "nbconvert_exporter": "python",
   "pygments_lexer": "ipython3",
   "version": "3.8.12"
  }
 },
 "nbformat": 4,
 "nbformat_minor": 5
}

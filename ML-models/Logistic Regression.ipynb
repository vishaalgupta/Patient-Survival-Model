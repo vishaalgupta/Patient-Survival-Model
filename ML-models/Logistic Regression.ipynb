{
 "cells": [
  {
   "cell_type": "code",
   "execution_count": 18,

   "id": "86e36135",
   "metadata": {},
   "outputs": [],
   "source": [
    "#importing all the libraries we need\n",

    "%matplotlib inline\n",
    "import pandas as pd\n",
    "from sklearn.model_selection import train_test_split\n",
    "from collections import Counter\n",
    "import matplotlib.pyplot as plt\n",
    "from matplotlib import pyplot\n",
    "import numpy as np\n",
    "from sklearn.linear_model import LogisticRegression\n",
    "from imblearn.over_sampling import RandomOverSampler\n",
    "from sklearn.metrics import confusion_matrix, classification_report\n"
   ]
  },
  {
   "cell_type": "code",
   "execution_count": 8,

   "id": "1390f515",

   "metadata": {},
   "outputs": [
    {
     "data": {
      "text/html": [
       "<div>\n",
       "<style scoped>\n",
       "    .dataframe tbody tr th:only-of-type {\n",
       "        vertical-align: middle;\n",
       "    }\n",
       "\n",
       "    .dataframe tbody tr th {\n",
       "        vertical-align: top;\n",
       "    }\n",
       "\n",
       "    .dataframe thead th {\n",
       "        text-align: right;\n",
       "    }\n",
       "</style>\n",
       "<table border=\"1\" class=\"dataframe\">\n",
       "  <thead>\n",
       "    <tr style=\"text-align: right;\">\n",
       "      <th></th>\n",
       "      <th>age</th>\n",
       "      <th>bmi</th>\n",
       "      <th>elective_surgery</th>\n",
       "      <th>ethnicity</th>\n",
       "      <th>gender</th>\n",
       "      <th>height</th>\n",
       "      <th>icu_admit_source</th>\n",
       "      <th>icu_id</th>\n",
       "      <th>icu_stay_type</th>\n",
       "      <th>icu_type</th>\n",
       "      <th>...</th>\n",
       "      <th>cirrhosis</th>\n",
       "      <th>diabetes_mellitus</th>\n",
       "      <th>hepatic_failure</th>\n",
       "      <th>immunosuppression</th>\n",
       "      <th>leukemia</th>\n",
       "      <th>lymphoma</th>\n",
       "      <th>solid_tumor_with_metastasis</th>\n",
       "      <th>apache_3j_bodysystem</th>\n",
       "      <th>apache_2_bodysystem</th>\n",
       "      <th>hospital_death</th>\n",
       "    </tr>\n",
       "  </thead>\n",
       "  <tbody>\n",
       "    <tr>\n",
       "      <th>0</th>\n",
       "      <td>68.0</td>\n",
       "      <td>22.730000</td>\n",
       "      <td>0</td>\n",
       "      <td>Caucasian</td>\n",
       "      <td>M</td>\n",
       "      <td>180.3</td>\n",
       "      <td>Floor</td>\n",
       "      <td>92</td>\n",
       "      <td>admit</td>\n",
       "      <td>CTICU</td>\n",
       "      <td>...</td>\n",
       "      <td>0.0</td>\n",
       "      <td>1.0</td>\n",
       "      <td>0.0</td>\n",
       "      <td>0.0</td>\n",
       "      <td>0.0</td>\n",
       "      <td>0.0</td>\n",
       "      <td>0.0</td>\n",
       "      <td>Sepsis</td>\n",
       "      <td>Cardiovascular</td>\n",
       "      <td>0</td>\n",
       "    </tr>\n",
       "    <tr>\n",
       "      <th>1</th>\n",
       "      <td>77.0</td>\n",
       "      <td>27.420000</td>\n",
       "      <td>0</td>\n",
       "      <td>Caucasian</td>\n",
       "      <td>F</td>\n",
       "      <td>160.0</td>\n",
       "      <td>Floor</td>\n",
       "      <td>90</td>\n",
       "      <td>admit</td>\n",
       "      <td>Med-Surg ICU</td>\n",
       "      <td>...</td>\n",
       "      <td>0.0</td>\n",
       "      <td>1.0</td>\n",
       "      <td>0.0</td>\n",
       "      <td>0.0</td>\n",
       "      <td>0.0</td>\n",
       "      <td>0.0</td>\n",
       "      <td>0.0</td>\n",
       "      <td>Respiratory</td>\n",
       "      <td>Respiratory</td>\n",
       "      <td>0</td>\n",
       "    </tr>\n",
       "    <tr>\n",
       "      <th>2</th>\n",
       "      <td>67.0</td>\n",
       "      <td>27.560000</td>\n",
       "      <td>0</td>\n",
       "      <td>Caucasian</td>\n",
       "      <td>M</td>\n",
       "      <td>190.5</td>\n",
       "      <td>Accident &amp; Emergency</td>\n",
       "      <td>95</td>\n",
       "      <td>admit</td>\n",
       "      <td>Med-Surg ICU</td>\n",
       "      <td>...</td>\n",
       "      <td>0.0</td>\n",
       "      <td>1.0</td>\n",
       "      <td>0.0</td>\n",
       "      <td>0.0</td>\n",
       "      <td>0.0</td>\n",
       "      <td>0.0</td>\n",
       "      <td>0.0</td>\n",
       "      <td>Neurological</td>\n",
       "      <td>Neurologic</td>\n",
       "      <td>0</td>\n",
       "    </tr>\n",
       "    <tr>\n",
       "      <th>3</th>\n",
       "      <td>72.0</td>\n",
       "      <td>28.257052</td>\n",
       "      <td>1</td>\n",
       "      <td>Hispanic</td>\n",
       "      <td>F</td>\n",
       "      <td>154.9</td>\n",
       "      <td>Operating Room / Recovery</td>\n",
       "      <td>113</td>\n",
       "      <td>admit</td>\n",
       "      <td>Med-Surg ICU</td>\n",
       "      <td>...</td>\n",
       "      <td>0.0</td>\n",
       "      <td>0.0</td>\n",
       "      <td>0.0</td>\n",
       "      <td>1.0</td>\n",
       "      <td>0.0</td>\n",
       "      <td>0.0</td>\n",
       "      <td>0.0</td>\n",
       "      <td>Respiratory</td>\n",
       "      <td>Respiratory</td>\n",
       "      <td>0</td>\n",
       "    </tr>\n",
       "    <tr>\n",
       "      <th>4</th>\n",
       "      <td>46.0</td>\n",
       "      <td>25.845717</td>\n",
       "      <td>0</td>\n",
       "      <td>Hispanic</td>\n",
       "      <td>M</td>\n",
       "      <td>167.6</td>\n",
       "      <td>Accident &amp; Emergency</td>\n",
       "      <td>92</td>\n",
       "      <td>admit</td>\n",
       "      <td>CTICU</td>\n",
       "      <td>...</td>\n",
       "      <td>0.0</td>\n",
       "      <td>0.0</td>\n",
       "      <td>0.0</td>\n",
       "      <td>0.0</td>\n",
       "      <td>0.0</td>\n",
       "      <td>0.0</td>\n",
       "      <td>0.0</td>\n",
       "      <td>Respiratory</td>\n",
       "      <td>Respiratory</td>\n",
       "      <td>0</td>\n",
       "    </tr>\n",
       "  </tbody>\n",
       "</table>\n",
       "<p>5 rows × 81 columns</p>\n",
       "</div>"
      ],
      "text/plain": [
       "    age        bmi  elective_surgery  ethnicity gender  height  \\\n",
       "0  68.0  22.730000                 0  Caucasian      M   180.3   \n",
       "1  77.0  27.420000                 0  Caucasian      F   160.0   \n",
       "2  67.0  27.560000                 0  Caucasian      M   190.5   \n",
       "3  72.0  28.257052                 1   Hispanic      F   154.9   \n",
       "4  46.0  25.845717                 0   Hispanic      M   167.6   \n",
       "\n",
       "            icu_admit_source  icu_id icu_stay_type      icu_type  ...  \\\n",
       "0                      Floor      92         admit         CTICU  ...   \n",
       "1                      Floor      90         admit  Med-Surg ICU  ...   \n",
       "2       Accident & Emergency      95         admit  Med-Surg ICU  ...   \n",
       "3  Operating Room / Recovery     113         admit  Med-Surg ICU  ...   \n",
       "4       Accident & Emergency      92         admit         CTICU  ...   \n",
       "\n",
       "   cirrhosis  diabetes_mellitus  hepatic_failure  immunosuppression  leukemia  \\\n",
       "0        0.0                1.0              0.0                0.0       0.0   \n",
       "1        0.0                1.0              0.0                0.0       0.0   \n",
       "2        0.0                1.0              0.0                0.0       0.0   \n",
       "3        0.0                0.0              0.0                1.0       0.0   \n",
       "4        0.0                0.0              0.0                0.0       0.0   \n",
       "\n",
       "   lymphoma  solid_tumor_with_metastasis  apache_3j_bodysystem  \\\n",
       "0       0.0                          0.0                Sepsis   \n",
       "1       0.0                          0.0           Respiratory   \n",
       "2       0.0                          0.0          Neurological   \n",
       "3       0.0                          0.0           Respiratory   \n",
       "4       0.0                          0.0           Respiratory   \n",
       "\n",
       "   apache_2_bodysystem  hospital_death  \n",
       "0       Cardiovascular               0  \n",
       "1          Respiratory               0  \n",
       "2           Neurologic               0  \n",
       "3          Respiratory               0  \n",
       "4          Respiratory               0  \n",
       "\n",
       "[5 rows x 81 columns]"
      ]
     },
     "execution_count": 8,
     "metadata": {},
     "output_type": "execute_result"
    }
   ],
   "source": [

    "#Adding in our datafile\n",
    "survival_df = pd.read_csv(\"../Resources/cleaned_data_survival_prediction.csv\")\n",

    "survival_df.head()"
   ]
  },
  {
   "cell_type": "code",
   "execution_count": 9,

   "id": "6e0ab744",
   "metadata": {},
   "outputs": [],
   "source": [
    "#labeling our X variable to drop our target variable\n",
    "#setting our y variable to be our target variable\n",

    "X = survival_df.drop('hospital_death', axis=1)\n",
    "y = survival_df['hospital_death']"
   ]
  },
  {
   "cell_type": "code",
   "execution_count": 10,

   "id": "ef641ffc",
   "metadata": {},
   "outputs": [],
   "source": [
    "#dummy-coding the rest of our X categorical variables\n",

    "X = pd.get_dummies(X)"
   ]
  },
  {
   "cell_type": "markdown",

   "id": "681fab60",
   "metadata": {},
   "source": [
    "### Balance the data set - OVERsampling\n",
    "\n",
    "#### Since our data was not evenly distributed, we decided to use a method called OVERsampling to help compensate."

   ]
  },
  {
   "cell_type": "code",
   "execution_count": 11,

   "id": "af33dadb",

   "metadata": {},
   "outputs": [
    {
     "name": "stdout",
     "output_type": "stream",
     "text": [
      "Original dataset shape Counter({0: 52044, 1: 4891})\n",
      "Resample dataset shape Counter({0: 52044, 1: 52044})\n"
     ]
    }
   ],
   "source": [
    "#Balance Data - oversampling\n",
    "ros = RandomOverSampler(random_state=42)\n",
    "\n",
    "x_ros, y_ros = ros.fit_resample(X, y)\n",
    "\n",
    "print('Original dataset shape', Counter(y))\n",
    "print('Resample dataset shape', Counter(y_ros))"
   ]
  },
  {
   "cell_type": "code",
   "execution_count": 12,

   "id": "78167893",
   "metadata": {},
   "outputs": [],
   "source": [
    "#Splitting our data into train and test\n",

    "X_train, X_test, y_train, y_test = train_test_split(x_ros, y_ros, random_state=45)"
   ]
  },
  {
   "cell_type": "code",
   "execution_count": 13,

   "id": "0de9a8ae",

   "metadata": {},
   "outputs": [
    {
     "name": "stdout",
     "output_type": "stream",
     "text": [
      "Training Data Score: 0.7767658135423872\n",
      "Testing Data Score: 0.776688955499193\n"
     ]
    },
    {
     "name": "stderr",
     "output_type": "stream",
     "text": [
      "/Users/atikahemani/opt/anaconda3/envs/PythonData38/lib/python3.8/site-packages/sklearn/linear_model/_logistic.py:444: ConvergenceWarning: lbfgs failed to converge (status=1):\n",
      "STOP: TOTAL NO. of ITERATIONS REACHED LIMIT.\n",
      "\n",
      "Increase the number of iterations (max_iter) or scale the data as shown in:\n",
      "    https://scikit-learn.org/stable/modules/preprocessing.html\n",
      "Please also refer to the documentation for alternative solver options:\n",
      "    https://scikit-learn.org/stable/modules/linear_model.html#logistic-regression\n",
      "  n_iter_i = _check_optimize_result(\n"
     ]
    }
   ],
   "source": [

    "#Running Logistic Regression\n",

    "classifier = LogisticRegression(max_iter=1000)\n",
    "\n",
    "classifier.fit(X_train, y_train)\n",
    "\n",
    "print(f\"Training Data Score: {classifier.score(X_train, y_train)}\")\n",
    "print(f\"Testing Data Score: {classifier.score(X_test, y_test)}\")"
   ]
  },
  {
   "cell_type": "code",
   "execution_count": 14,

   "id": "79f58b0a",

   "metadata": {},
   "outputs": [
    {
     "name": "stdout",
     "output_type": "stream",
     "text": [
      "Test Acc: 0.777\n",
      "[[10398  2685]\n",
      " [ 3126  9813]]\n",
      "              precision    recall  f1-score   support\n",
      "\n",
      "           0       0.77      0.79      0.78     13083\n",
      "           1       0.79      0.76      0.77     12939\n",
      "\n",
      "    accuracy                           0.78     26022\n",
      "   macro avg       0.78      0.78      0.78     26022\n",
      "weighted avg       0.78      0.78      0.78     26022\n",
      "\n"
     ]
    }
   ],
   "source": [

    "#Testing our model\n",

    "y_true = y_test\n",
    "y_pred = classifier.predict(X_test)\n",
    "\n",
    "print('Test Acc: %.3f' % classifier.score(X_test, y_test))\n",
    "print(confusion_matrix(y_true, y_pred))\n",
    "print(classification_report(y_true, y_pred))"
   ]
  },
  {
   "cell_type": "markdown",

   "id": "c0b8f217",
   "metadata": {},
   "source": [
    "### Since there is a large amount of features, we want to see which features are the most important. Below we are running feature importance. "

   ]
  },
  {
   "cell_type": "code",
   "execution_count": 16,

   "id": "b2728820",

   "metadata": {},
   "outputs": [],
   "source": [
    "importance = classifier.coef_[0]"
   ]
  },
  {
   "cell_type": "code",
   "execution_count": 19,

   "id": "9f005476",

   "metadata": {},
   "outputs": [
    {
     "name": "stdout",
     "output_type": "stream",
     "text": [
      "Feature: 0, Score: 0.03113\n",
      "Feature: 1, Score: 0.03465\n",
      "Feature: 2, Score: -0.18213\n",
      "Feature: 3, Score: 0.01794\n",
      "Feature: 4, Score: -0.00007\n",
      "Feature: 5, Score: 0.05579\n",
      "Feature: 6, Score: -0.01538\n",
      "Feature: 7, Score: 0.00039\n",
      "Feature: 8, Score: -0.00065\n",
      "Feature: 9, Score: -0.07497\n",
      "Feature: 10, Score: 0.09113\n",
      "Feature: 11, Score: -0.15872\n",
      "Feature: 12, Score: -0.15858\n",
      "Feature: 13, Score: 0.00000\n",
      "Feature: 14, Score: -0.04143\n",
      "Feature: 15, Score: 0.00028\n",
      "Feature: 16, Score: 0.29374\n",
      "Feature: 17, Score: 0.00167\n",
      "Feature: 18, Score: 0.00987\n",
      "Feature: 19, Score: -0.07137\n",
      "Feature: 20, Score: 0.58163\n",
      "Feature: 21, Score: 0.00905\n",
      "Feature: 22, Score: -0.00565\n",
      "Feature: 23, Score: -0.01070\n",
      "Feature: 24, Score: -0.00279\n",
      "Feature: 25, Score: 0.01277\n",
      "Feature: 26, Score: 0.00578\n",
      "Feature: 27, Score: 0.00002\n",
      "Feature: 28, Score: -0.04536\n",
      "Feature: 29, Score: 0.00316\n",
      "Feature: 30, Score: 0.03932\n",
      "Feature: 31, Score: 0.00311\n",
      "Feature: 32, Score: 0.00517\n",
      "Feature: 33, Score: 0.02777\n",
      "Feature: 34, Score: -0.02488\n",
      "Feature: 35, Score: -0.00184\n",
      "Feature: 36, Score: -0.00855\n",
      "Feature: 37, Score: -0.00340\n",
      "Feature: 38, Score: 0.00174\n",
      "Feature: 39, Score: 0.20934\n",
      "Feature: 40, Score: -0.31498\n",
      "Feature: 41, Score: 0.00681\n",
      "Feature: 42, Score: 0.00096\n",
      "Feature: 43, Score: -0.00196\n",
      "Feature: 44, Score: 0.00116\n",
      "Feature: 45, Score: -0.00706\n",
      "Feature: 46, Score: 0.00223\n",
      "Feature: 47, Score: -0.00243\n",
      "Feature: 48, Score: 0.02761\n",
      "Feature: 49, Score: -0.00395\n",
      "Feature: 50, Score: -0.03492\n",
      "Feature: 51, Score: 0.00885\n",
      "Feature: 52, Score: 0.02129\n",
      "Feature: 53, Score: -0.01234\n",
      "Feature: 54, Score: 0.00863\n",
      "Feature: 55, Score: 0.00387\n",
      "Feature: 56, Score: -0.00582\n",
      "Feature: 57, Score: -0.00027\n",
      "Feature: 58, Score: 0.00637\n",
      "Feature: 59, Score: 0.00069\n",
      "Feature: 60, Score: 0.00106\n",
      "Feature: 61, Score: 0.29963\n",
      "Feature: 62, Score: 0.09317\n",
      "Feature: 63, Score: 0.37914\n",
      "Feature: 64, Score: 0.27738\n",
      "Feature: 65, Score: 0.01121\n",
      "Feature: 66, Score: 0.13023\n",
      "Feature: 67, Score: -0.08796\n",
      "Feature: 68, Score: 0.10955\n",
      "Feature: 69, Score: 0.15419\n",
      "Feature: 70, Score: 0.04414\n",
      "Feature: 71, Score: 0.01521\n",
      "Feature: 72, Score: 0.19658\n",
      "Feature: 73, Score: -0.02659\n",
      "Feature: 74, Score: -0.00261\n",
      "Feature: 75, Score: 0.00632\n",
      "Feature: 76, Score: 0.00379\n",
      "Feature: 77, Score: 0.00997\n",
      "Feature: 78, Score: 0.01744\n",
      "Feature: 79, Score: -0.02814\n",
      "Feature: 80, Score: 0.03646\n",
      "Feature: 81, Score: -0.15191\n",
      "Feature: 82, Score: 0.12611\n",
      "Feature: 83, Score: -0.12554\n",
      "Feature: 84, Score: 0.13053\n",
      "Feature: 85, Score: 0.02913\n",
      "Feature: 86, Score: 0.11261\n",
      "Feature: 87, Score: -0.00485\n",
      "Feature: 88, Score: -0.09944\n",
      "Feature: 89, Score: 0.01511\n",
      "Feature: 90, Score: -0.08126\n",
      "Feature: 91, Score: -0.01759\n",
      "Feature: 92, Score: -0.00046\n",
      "Feature: 93, Score: 0.06265\n",
      "Feature: 94, Score: -0.10827\n",
      "Feature: 95, Score: 0.10933\n",
      "Feature: 96, Score: 0.02881\n",
      "Feature: 97, Score: -0.30554\n",
      "Feature: 98, Score: 0.05266\n",
      "Feature: 99, Score: 0.02216\n",
      "Feature: 100, Score: -0.00098\n",
      "Feature: 101, Score: 0.03925\n",
      "Feature: 102, Score: -0.21066\n",
      "Feature: 103, Score: 0.01609\n",
      "Feature: 104, Score: 0.13594\n",
      "Feature: 105, Score: 0.01837\n",
      "Feature: 106, Score: 0.23659\n",
      "Feature: 107, Score: 0.00444\n",
      "Feature: 108, Score: 0.05388\n",
      "Feature: 109, Score: 0.05266\n",
      "Feature: 110, Score: 0.03925\n",
      "Feature: 111, Score: -0.21066\n",
      "Feature: 112, Score: 0.13594\n",
      "Feature: 113, Score: 0.02145\n",
      "Feature: 114, Score: 0.01837\n",
      "Feature: 115, Score: 0.00444\n",
      "Feature: 116, Score: 0.01144\n",
      "Feature: 117, Score: -0.11845\n"
     ]
    },
    {
     "data": {
      "image/png": "[encoded data removed]",
      "text/plain": [
       "<Figure size 432x288 with 1 Axes>"
      ]
     },
     "metadata": {
      "needs_background": "light"
     },
     "output_type": "display_data"
    }
   ],
   "source": [
    "# summarize feature importance\n",
    "for i,v in enumerate(importance):\n",
    "    print('Feature: %0d, Score: %.5f' % (i,v))\n",
    "# plot feature importance\n",
    "pyplot.bar([x for x in range(len(importance))], importance)\n",
    "pyplot.show()"
   ]

  }
 ],
 "metadata": {
  "kernelspec": {
   "display_name": "Python [conda env:PythonData38] *",
   "language": "python",
   "name": "conda-env-PythonData38-py"
  },
  "language_info": {
   "codemirror_mode": {
    "name": "ipython",
    "version": 3
   },
   "file_extension": ".py",
   "mimetype": "text/x-python",
   "name": "python",
   "nbconvert_exporter": "python",
   "pygments_lexer": "ipython3",
   "version": "3.8.12"
  }
 },
 "nbformat": 4,
 "nbformat_minor": 5
}

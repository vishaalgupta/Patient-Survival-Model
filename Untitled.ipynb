{
 "cells": [
  {
   "cell_type": "code",
   "execution_count": null,
   "id": "dac0421e",
   "metadata": {},
   "outputs": [],
   "source": [
    "%matplotlib inline\n",
    "import pandas as pd\n",
    "from sklearn.model_selection import train_test_split\n",
    "from collections import Counter\n",
    "import matplotlib.pyplot as plt\n",
    "from matplotlib import pyplot as plt\n",
    "import numpy as np\n",
    "from sklearn.ensemble import RandomForestClassifier\n",
    "from imblearn.over_sampling import RandomOverSampler\n",
    "from sklearn.metrics import confusion_matrix, classification_report\n",
    "\n",
    "survival_df = pd.read_csv(\"../Patient-Survival-Model/Resources/cleaned_data_survival_prediction.csv\")"
   ]
  },
  {
   "cell_type": "code",
   "execution_count": null,
   "id": "c74d6253",
   "metadata": {},
   "outputs": [],
   "source": [
    "survival_df.head()"
   ]
  },
  {
   "cell_type": "code",
   "execution_count": null,
   "id": "20c12f07",
   "metadata": {},
   "outputs": [],
   "source": [
    "survival_df_features = survival_df[['apache_4a_hospital_death_prob', 'apache_4a_icu_death_prob',\n",
    "                                  'd1_spo2_min', 'd1_temp_min', 'd1_sysbp_noninvasive_min',\n",
    "                                  'd1_sysbp_min', 'd1_heartrate_min', 'heart_rate_apache',\n",
    "                                  'apache_3j_diagnosis', 'pre_icu_los_days','hospital_death']]"
   ]
  },
  {
   "cell_type": "code",
   "execution_count": null,
   "id": "921bab73",
   "metadata": {},
   "outputs": [],
   "source": [
    "X = survival_df_features.drop('hospital_death', axis=1)\n",
    "y = survival_df_features['hospital_death']"
   ]
  },
  {
   "cell_type": "code",
   "execution_count": null,
   "id": "b03793a5",
   "metadata": {},
   "outputs": [],
   "source": [
    "X = pd.get_dummies(X)"
   ]
  },
  {
   "cell_type": "markdown",
   "id": "03cfa7ad",
   "metadata": {},
   "source": [
    "### Balance the data set - OVERsampling"
   ]
  },
  {
   "cell_type": "code",
   "execution_count": null,
   "id": "5419b594",
   "metadata": {},
   "outputs": [],
   "source": [
    "#Balance Data - oversampling\n",
    "ros = RandomOverSampler(random_state=42)\n",
    "\n",
    "x_ros, y_ros = ros.fit_resample(X, y)\n",
    "\n",
    "print('Original dataset shape', Counter(y))\n",
    "print('Resample dataset shape', Counter(y_ros))"
   ]
  },
  {
   "cell_type": "code",
   "execution_count": null,
   "id": "268a72a8",
   "metadata": {},
   "outputs": [],
   "source": []
  },
  {
   "cell_type": "code",
   "execution_count": null,
   "id": "77a48f3a",
   "metadata": {},
   "outputs": [],
   "source": []
  }
 ],
 "metadata": {
  "kernelspec": {
   "display_name": "Python [conda env:PythonData38] *",
   "language": "python",
   "name": "conda-env-PythonData38-py"
  },
  "language_info": {
   "codemirror_mode": {
    "name": "ipython",
    "version": 3
   },
   "file_extension": ".py",
   "mimetype": "text/x-python",
   "name": "python",
   "nbconvert_exporter": "python",
   "pygments_lexer": "ipython3",
   "version": "3.8.12"
  }
 },
 "nbformat": 4,
 "nbformat_minor": 5
}
